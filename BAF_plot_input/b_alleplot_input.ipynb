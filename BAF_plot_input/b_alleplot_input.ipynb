{
 "cells": [
  {
   "cell_type": "code",
   "execution_count": 1,
   "metadata": {},
   "outputs": [],
   "source": [
    "import pandas as pd"
   ]
  },
  {
   "cell_type": "markdown",
   "metadata": {},
   "source": [
    "**Read the representative data ( binned 250000)  from the high20 file output using GetRepresentative.py**"
   ]
  },
  {
   "cell_type": "code",
   "execution_count": 2,
   "metadata": {},
   "outputs": [],
   "source": [
    "ref=pd.read_csv(\"Sample_A1.txt\",delimiter=\"\\t\",dtype=str)"
   ]
  },
  {
   "cell_type": "code",
   "execution_count": 3,
   "metadata": {},
   "outputs": [],
   "source": [
    "#Add Chr to all column heading\n",
    "ref=ref.add_prefix('Chr')\n",
    "ref[\"ChrBin\"]=ref.ChrBin.str.replace('Bin','')"
   ]
  },
  {
   "cell_type": "code",
   "execution_count": 4,
   "metadata": {},
   "outputs": [],
   "source": [
    "list1 =['Chr1', 'Chr2', 'Chr3', 'Chr4', 'Chr5', 'Chr6', 'Chr7',\n",
    "       'Chr8', 'Chr9', 'Chr10', 'Chr11', 'Chr12', 'Chr13', 'Chr14', 'Chr15',\n",
    "       'Chr16', 'Chr17', 'Chr18', 'Chr19', 'Chr20', 'Chr21', 'Chr22', 'ChrX']"
   ]
  },
  {
   "cell_type": "code",
   "execution_count": 5,
   "metadata": {},
   "outputs": [],
   "source": [
    "#Replace 0 to 0:0 in the list of columns\n",
    "for l in list1:\n",
    "    ref[l]=ref[l].map(lambda x : \"0;0\" if x== \"0\" else x )"
   ]
  },
  {
   "cell_type": "code",
   "execution_count": 6,
   "metadata": {},
   "outputs": [],
   "source": [
    "#Reshape\n",
    "ref1=ref.melt(id_vars =['ChrBin'], value_vars =['Chr1', 'Chr2', 'Chr3', 'Chr4', 'Chr5', 'Chr6', 'Chr7',\n",
    "       'Chr8', 'Chr9', 'Chr10', 'Chr11', 'Chr12', 'Chr13', 'Chr14', 'Chr15',\n",
    "       'Chr16', 'Chr17', 'Chr18', 'Chr19', 'Chr20', 'Chr21', 'Chr22', 'ChrX'],  \n",
    "        var_name ='Chr', value_name ='vaf') "
   ]
  },
  {
   "cell_type": "code",
   "execution_count": 7,
   "metadata": {},
   "outputs": [],
   "source": [
    "ref1[\"ChrBin\"]=ref1[\"ChrBin\"].astype(int) #change as interger"
   ]
  },
  {
   "cell_type": "code",
   "execution_count": 8,
   "metadata": {},
   "outputs": [],
   "source": [
    "ref1[\"End\"]=ref1.ChrBin+250000  # Add end column with 250000 as starting value"
   ]
  },
  {
   "cell_type": "code",
   "execution_count": 9,
   "metadata": {},
   "outputs": [],
   "source": [
    "ref1[['GermlineVaf','TumorVaf']] = ref1['vaf'].str.split(';',expand=True) # split vaf column into two columns"
   ]
  },
  {
   "cell_type": "code",
   "execution_count": 10,
   "metadata": {},
   "outputs": [],
   "source": [
    "ref1[\"Chr\"]=ref1.Chr.str.replace('Chr','') #remove chr"
   ]
  },
  {
   "cell_type": "code",
   "execution_count": 11,
   "metadata": {},
   "outputs": [],
   "source": [
    "ref1=ref1.rename(columns={\"Chr\": \"chromosome\", \"ChrBin\": \"start\",\"End\": \"end\"}) #rename selected columns "
   ]
  },
  {
   "cell_type": "code",
   "execution_count": 12,
   "metadata": {},
   "outputs": [
    {
     "data": {
      "text/html": [
       "<div>\n",
       "<style scoped>\n",
       "    .dataframe tbody tr th:only-of-type {\n",
       "        vertical-align: middle;\n",
       "    }\n",
       "\n",
       "    .dataframe tbody tr th {\n",
       "        vertical-align: top;\n",
       "    }\n",
       "\n",
       "    .dataframe thead th {\n",
       "        text-align: right;\n",
       "    }\n",
       "</style>\n",
       "<table border=\"1\" class=\"dataframe\">\n",
       "  <thead>\n",
       "    <tr style=\"text-align: right;\">\n",
       "      <th></th>\n",
       "      <th>start</th>\n",
       "      <th>chromosome</th>\n",
       "      <th>vaf</th>\n",
       "      <th>end</th>\n",
       "      <th>GermlineVaf</th>\n",
       "      <th>TumorVaf</th>\n",
       "    </tr>\n",
       "  </thead>\n",
       "  <tbody>\n",
       "    <tr>\n",
       "      <th>0</th>\n",
       "      <td>0</td>\n",
       "      <td>1</td>\n",
       "      <td>0.44;0.244186046512</td>\n",
       "      <td>250000</td>\n",
       "      <td>0.44</td>\n",
       "      <td>0.244186046512</td>\n",
       "    </tr>\n",
       "    <tr>\n",
       "      <th>1</th>\n",
       "      <td>250000</td>\n",
       "      <td>1</td>\n",
       "      <td>0;0</td>\n",
       "      <td>500000</td>\n",
       "      <td>0</td>\n",
       "      <td>0</td>\n",
       "    </tr>\n",
       "    <tr>\n",
       "      <th>2</th>\n",
       "      <td>500000</td>\n",
       "      <td>1</td>\n",
       "      <td>0.453488372093;0.507462686567</td>\n",
       "      <td>750000</td>\n",
       "      <td>0.453488372093</td>\n",
       "      <td>0.507462686567</td>\n",
       "    </tr>\n",
       "    <tr>\n",
       "      <th>3</th>\n",
       "      <td>750000</td>\n",
       "      <td>1</td>\n",
       "      <td>1.0;1.0</td>\n",
       "      <td>1000000</td>\n",
       "      <td>1.0</td>\n",
       "      <td>1.0</td>\n",
       "    </tr>\n",
       "    <tr>\n",
       "      <th>4</th>\n",
       "      <td>1000000</td>\n",
       "      <td>1</td>\n",
       "      <td>1.0;1.0</td>\n",
       "      <td>1250000</td>\n",
       "      <td>1.0</td>\n",
       "      <td>1.0</td>\n",
       "    </tr>\n",
       "  </tbody>\n",
       "</table>\n",
       "</div>"
      ],
      "text/plain": [
       "     start chromosome                            vaf      end     GermlineVaf  \\\n",
       "0        0          1            0.44;0.244186046512   250000            0.44   \n",
       "1   250000          1                            0;0   500000               0   \n",
       "2   500000          1  0.453488372093;0.507462686567   750000  0.453488372093   \n",
       "3   750000          1                        1.0;1.0  1000000             1.0   \n",
       "4  1000000          1                        1.0;1.0  1250000             1.0   \n",
       "\n",
       "         TumorVaf  \n",
       "0  0.244186046512  \n",
       "1               0  \n",
       "2  0.507462686567  \n",
       "3             1.0  \n",
       "4             1.0  "
      ]
     },
     "execution_count": 12,
     "metadata": {},
     "output_type": "execute_result"
    }
   ],
   "source": [
    "ref1.head()"
   ]
  },
  {
   "cell_type": "code",
   "execution_count": 13,
   "metadata": {},
   "outputs": [],
   "source": [
    "ref1.to_csv(\"Sample1_BAF_input.txt\", header=True, index=False, sep='\\t')\n",
    "# This is the input for BAF plot in R script in my github folder titled \"Copynumber_and_BAF_plot\""
   ]
  },
  {
   "cell_type": "code",
   "execution_count": null,
   "metadata": {},
   "outputs": [],
   "source": []
  },
  {
   "cell_type": "code",
   "execution_count": null,
   "metadata": {},
   "outputs": [],
   "source": []
  },
  {
   "cell_type": "code",
   "execution_count": null,
   "metadata": {},
   "outputs": [],
   "source": []
  },
  {
   "cell_type": "code",
   "execution_count": null,
   "metadata": {},
   "outputs": [],
   "source": []
  }
 ],
 "metadata": {
  "kernelspec": {
   "display_name": "Python 3",
   "language": "python",
   "name": "python3"
  },
  "language_info": {
   "codemirror_mode": {
    "name": "ipython",
    "version": 3
   },
   "file_extension": ".py",
   "mimetype": "text/x-python",
   "name": "python",
   "nbconvert_exporter": "python",
   "pygments_lexer": "ipython3",
   "version": "3.8.5"
  }
 },
 "nbformat": 4,
 "nbformat_minor": 2
}
