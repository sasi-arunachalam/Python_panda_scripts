{
 "cells": [
  {
   "cell_type": "code",
   "execution_count": 1,
   "id": "a5ab16b1",
   "metadata": {},
   "outputs": [],
   "source": [
    "import os\n",
    "import pandas as pd\n",
    "import numpy as np\n",
    "import matplotlib.pyplot as plt\n",
    "import sys\n",
    "pd.set_option(\"display.max_columns\",45)"
   ]
  },
  {
   "cell_type": "markdown",
   "id": "41879577",
   "metadata": {},
   "source": [
    "**Key**"
   ]
  },
  {
   "cell_type": "code",
   "execution_count": 2,
   "id": "37b22d28",
   "metadata": {},
   "outputs": [],
   "source": [
    "Patient=\"Casefortesting\""
   ]
  },
  {
   "cell_type": "markdown",
   "id": "c6a2b32b",
   "metadata": {},
   "source": [
    "**Read CNV plot**"
   ]
  },
  {
   "cell_type": "code",
   "execution_count": 3,
   "id": "2c08cd25",
   "metadata": {},
   "outputs": [
    {
     "data": {
      "text/plain": [
       "1505"
      ]
     },
     "execution_count": 3,
     "metadata": {},
     "output_type": "execute_result"
    }
   ],
   "source": [
    "cnv=pd.read_excel(Patient+\".seg_review.xlsx\",index_col=None)\n",
    "len(cnv)"
   ]
  },
  {
   "cell_type": "markdown",
   "id": "4f376fb4",
   "metadata": {},
   "source": [
    "**Find unique samples**"
   ]
  },
  {
   "cell_type": "code",
   "execution_count": 4,
   "id": "ea655be9",
   "metadata": {},
   "outputs": [
    {
     "data": {
      "text/plain": [
       "['Patient_A1', 'Patient_A2', 'Patient_A3', 'Patient_A4', 'Patient_G1']"
      ]
     },
     "execution_count": 4,
     "metadata": {},
     "output_type": "execute_result"
    }
   ],
   "source": [
    "samples=list(cnv.Sample.unique())\n",
    "samples"
   ]
  },
  {
   "cell_type": "markdown",
   "id": "c119c229",
   "metadata": {},
   "source": [
    "**Create list of  CNVs that correpsonds to unique samples for Zip command**"
   ]
  },
  {
   "cell_type": "code",
   "execution_count": 5,
   "id": "7c589312",
   "metadata": {},
   "outputs": [
    {
     "data": {
      "text/plain": [
       "['CNV_1', 'CNV_2', 'CNV_3', 'CNV_4', 'CNV_5']"
      ]
     },
     "execution_count": 5,
     "metadata": {},
     "output_type": "execute_result"
    }
   ],
   "source": [
    "cnvs=['CNV_'+str(i+1) for i in range(len(samples))]\n",
    "cnvs"
   ]
  },
  {
   "cell_type": "markdown",
   "id": "75a98297",
   "metadata": {},
   "source": [
    "**Read the mutation file**"
   ]
  },
  {
   "cell_type": "code",
   "execution_count": 6,
   "id": "58bb7497",
   "metadata": {},
   "outputs": [
    {
     "data": {
      "text/plain": [
       "36"
      ]
     },
     "execution_count": 6,
     "metadata": {},
     "output_type": "execute_result"
    }
   ],
   "source": [
    "mut=pd.read_excel(Patient+\"_table.xlsx\",index_col=None)\n",
    "mut[\"key2\"]=mut.Key.str.split(\":\").apply(lambda x :x[1])\n",
    "mut[\"chromosome\"]=mut.key2.str.split(\".\").apply(lambda x :x[0])\n",
    "mut[\"position\"]=mut.Key.str.split(\".\").apply(lambda x :x[1])\n",
    "mut['position'] = mut['position'].astype(float)\n",
    "mut[\"chromosome\"]=mut.chromosome.str.replace(\"chr\",\"\")\n",
    "len(mut)"
   ]
  },
  {
   "cell_type": "markdown",
   "id": "885f5fff",
   "metadata": {},
   "source": [
    "**Add  copy number of each sample in last column in loop**"
   ]
  },
  {
   "cell_type": "code",
   "execution_count": 7,
   "id": "91622477",
   "metadata": {},
   "outputs": [
    {
     "data": {
      "text/plain": [
       "36"
      ]
     },
     "execution_count": 7,
     "metadata": {},
     "output_type": "execute_result"
    }
   ],
   "source": [
    "for s,c in zip(samples,cnvs):\n",
    "    c= cnv[cnv.Sample==s]   # selects each sample\n",
    "    c=c[['Chromosome', 'Start', 'End','abscopy']]\n",
    "    c.columns=['chromosome', 'start', 'end', s.split('_')[1]] # strips the full sample name to A1 etc\n",
    "    c[\"chromosome\"]=c.chromosome.str.replace(\"chr\",\"\")\n",
    "    c_mut=mut.merge(c,on=\"chromosome\", how=\"outer\")\n",
    "    c_mut['position'] = c_mut['position'].astype(float)\n",
    "    c_mut=c_mut[c_mut[\"position\"].between(c_mut.pop(\"start\"),c_mut.pop(\"end\"))]\n",
    "    c_mut_select=c_mut[[\"chromosome\",\"position\",s.split('_')[1]]]\n",
    "    mut=mut.merge(c_mut_select,how=\"left\") # fiel is renamed as mut so it goes in loop with previous addition\n",
    "\n",
    "mut.to_excel(Patient+\"_copyadded_output.xlsx\",index=None)\n",
    "len(mut)"
   ]
  },
  {
   "cell_type": "code",
   "execution_count": null,
   "id": "8c98e8c1",
   "metadata": {},
   "outputs": [],
   "source": []
  }
 ],
 "metadata": {
  "kernelspec": {
   "display_name": "Python 3 (ipykernel)",
   "language": "python",
   "name": "python3"
  },
  "language_info": {
   "codemirror_mode": {
    "name": "ipython",
    "version": 3
   },
   "file_extension": ".py",
   "mimetype": "text/x-python",
   "name": "python",
   "nbconvert_exporter": "python",
   "pygments_lexer": "ipython3",
   "version": "3.9.7"
  }
 },
 "nbformat": 4,
 "nbformat_minor": 5
}
