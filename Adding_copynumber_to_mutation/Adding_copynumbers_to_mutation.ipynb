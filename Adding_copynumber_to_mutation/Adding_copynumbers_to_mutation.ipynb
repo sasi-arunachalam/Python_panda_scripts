{
 "cells": [
  {
   "cell_type": "code",
   "execution_count": 2,
   "id": "a5ab16b1",
   "metadata": {},
   "outputs": [],
   "source": [
    "import os\n",
    "import pandas as pd\n",
    "import numpy as np\n",
    "import matplotlib.pyplot as plt\n",
    "import sys\n",
    "pd.set_option(\"display.max_columns\",45)"
   ]
  },
  {
   "cell_type": "markdown",
   "id": "41879577",
   "metadata": {},
   "source": [
    "**Key**"
   ]
  },
  {
   "cell_type": "code",
   "execution_count": 3,
   "id": "37b22d28",
   "metadata": {},
   "outputs": [],
   "source": [
    "Patient=\"Casefortesting\""
   ]
  },
  {
   "cell_type": "markdown",
   "id": "c6a2b32b",
   "metadata": {},
   "source": [
    "**Read CNV plot**"
   ]
  },
  {
   "cell_type": "code",
   "execution_count": 4,
   "id": "2c08cd25",
   "metadata": {},
   "outputs": [
    {
     "data": {
      "text/plain": [
       "1505"
      ]
     },
     "execution_count": 4,
     "metadata": {},
     "output_type": "execute_result"
    }
   ],
   "source": [
    "cnv=pd.read_excel(Patient+\".seg_review.xlsx\",index_col=None)\n",
    "len(cnv)"
   ]
  },
  {
   "cell_type": "markdown",
   "id": "4f376fb4",
   "metadata": {},
   "source": [
    "**Find unique samples**"
   ]
  },
  {
   "cell_type": "code",
   "execution_count": 5,
   "id": "ea655be9",
   "metadata": {},
   "outputs": [
    {
     "data": {
      "text/plain": [
       "['Patient_A1', 'Patient_A2', 'Patient_A3', 'Patient_A4', 'Patient_G1']"
      ]
     },
     "execution_count": 5,
     "metadata": {},
     "output_type": "execute_result"
    }
   ],
   "source": [
    "samples=list(cnv.Sample.unique())\n",
    "samples"
   ]
  },
  {
   "cell_type": "markdown",
   "id": "c119c229",
   "metadata": {},
   "source": [
    "**Create list of  CNVs that correpsonds to unique samples for Zip command**"
   ]
  },
  {
   "cell_type": "code",
   "execution_count": 6,
   "id": "7c589312",
   "metadata": {},
   "outputs": [
    {
     "data": {
      "text/plain": [
       "['CNV_1', 'CNV_2', 'CNV_3', 'CNV_4', 'CNV_5']"
      ]
     },
     "execution_count": 6,
     "metadata": {},
     "output_type": "execute_result"
    }
   ],
   "source": [
    "cnvs=['CNV_'+str(i+1) for i in range(len(samples))]\n",
    "cnvs"
   ]
  },
  {
   "cell_type": "markdown",
   "id": "75a98297",
   "metadata": {},
   "source": [
    "**Read the mutation file**"
   ]
  },
  {
   "cell_type": "code",
   "execution_count": 7,
   "id": "58bb7497",
   "metadata": {},
   "outputs": [
    {
     "data": {
      "text/plain": [
       "36"
      ]
     },
     "execution_count": 7,
     "metadata": {},
     "output_type": "execute_result"
    }
   ],
   "source": [
    "mut=pd.read_excel(Patient+\"_table.xlsx\",index_col=None)\n",
    "mut[\"key2\"]=mut.Key.str.split(\":\").apply(lambda x :x[1])\n",
    "mut[\"chromosome\"]=mut.key2.str.split(\".\").apply(lambda x :x[0])\n",
    "mut[\"position\"]=mut.Key.str.split(\".\").apply(lambda x :x[1])\n",
    "mut['position'] = mut['position'].astype(float)\n",
    "mut[\"chromosome\"]=mut.chromosome.str.replace(\"chr\",\"\")\n",
    "len(mut)"
   ]
  },
  {
   "cell_type": "markdown",
   "id": "885f5fff",
   "metadata": {},
   "source": [
    "**Add  copy number of each sample in last column in loop**"
   ]
  },
  {
   "cell_type": "code",
   "execution_count": 8,
   "id": "91622477",
   "metadata": {},
   "outputs": [
    {
     "data": {
      "text/plain": [
       "36"
      ]
     },
     "execution_count": 8,
     "metadata": {},
     "output_type": "execute_result"
    }
   ],
   "source": [
    "for s,c in zip(samples,cnvs):\n",
    "    c= cnv[cnv.Sample==s]   # selects each sample\n",
    "    c=c[['Chromosome', 'Start', 'End','abscopy']]\n",
    "    c.columns=['chromosome', 'start', 'end', s.split('_')[1]] # strips the full sample name to A1 etc\n",
    "    c[\"chromosome\"]=c.chromosome.str.replace(\"chr\",\"\")\n",
    "    c_mut=mut.merge(c,on=\"chromosome\", how=\"outer\")\n",
    "    c_mut['position'] = c_mut['position'].astype(float)\n",
    "    c_mut=c_mut[c_mut[\"position\"].between(c_mut.pop(\"start\"),c_mut.pop(\"end\"))]\n",
    "    c_mut_select=c_mut[[\"chromosome\",\"position\",s.split('_')[1]]]\n",
    "    mut=mut.merge(c_mut_select,how=\"left\") # fiel is renamed as mut so it goes in loop with previous addition\n",
    "\n",
    "mut.to_excel(Patient+\"_copyadded_output.xlsx\",index=None)\n",
    "len(mut)"
   ]
  },
  {
   "cell_type": "markdown",
   "id": "368d2b3b",
   "metadata": {},
   "source": [
    "**\"################################\"**"
   ]
  },
  {
   "cell_type": "markdown",
   "id": "e1c56859",
   "metadata": {},
   "source": [
    "**Alternate Method**"
   ]
  },
  {
   "cell_type": "markdown",
   "id": "6a3127e8",
   "metadata": {},
   "source": [
    "**Without Loop**"
   ]
  },
  {
   "cell_type": "code",
   "execution_count": 9,
   "id": "9394b7e5",
   "metadata": {},
   "outputs": [
    {
     "data": {
      "text/plain": [
       "1505"
      ]
     },
     "execution_count": 9,
     "metadata": {},
     "output_type": "execute_result"
    }
   ],
   "source": [
    "Patient=\"Casefortesting\"\n",
    "cnv=pd.read_excel(Patient+\".seg_review.xlsx\",index_col=None)\n",
    "len(cnv)"
   ]
  },
  {
   "cell_type": "code",
   "execution_count": 10,
   "id": "2b842538",
   "metadata": {},
   "outputs": [
    {
     "data": {
      "text/plain": [
       "['Patient_A1', 'Patient_A2', 'Patient_A3', 'Patient_A4', 'Patient_G1']"
      ]
     },
     "execution_count": 10,
     "metadata": {},
     "output_type": "execute_result"
    }
   ],
   "source": [
    "samples=list(cnv.Sample.unique())\n",
    "samples"
   ]
  },
  {
   "cell_type": "code",
   "execution_count": 11,
   "id": "7c3dba5e",
   "metadata": {},
   "outputs": [
    {
     "data": {
      "text/html": [
       "<div>\n",
       "<style scoped>\n",
       "    .dataframe tbody tr th:only-of-type {\n",
       "        vertical-align: middle;\n",
       "    }\n",
       "\n",
       "    .dataframe tbody tr th {\n",
       "        vertical-align: top;\n",
       "    }\n",
       "\n",
       "    .dataframe thead th {\n",
       "        text-align: right;\n",
       "    }\n",
       "</style>\n",
       "<table border=\"1\" class=\"dataframe\">\n",
       "  <thead>\n",
       "    <tr style=\"text-align: right;\">\n",
       "      <th></th>\n",
       "      <th>chromosome</th>\n",
       "      <th>start</th>\n",
       "      <th>end</th>\n",
       "      <th>abscopy</th>\n",
       "    </tr>\n",
       "  </thead>\n",
       "  <tbody>\n",
       "    <tr>\n",
       "      <th>0</th>\n",
       "      <td>1</td>\n",
       "      <td>61724</td>\n",
       "      <td>16906668</td>\n",
       "      <td>1.702907</td>\n",
       "    </tr>\n",
       "    <tr>\n",
       "      <th>1</th>\n",
       "      <td>1</td>\n",
       "      <td>16906668</td>\n",
       "      <td>17016566</td>\n",
       "      <td>2.050534</td>\n",
       "    </tr>\n",
       "    <tr>\n",
       "      <th>2</th>\n",
       "      <td>1</td>\n",
       "      <td>17016566</td>\n",
       "      <td>25588235</td>\n",
       "      <td>1.706452</td>\n",
       "    </tr>\n",
       "    <tr>\n",
       "      <th>3</th>\n",
       "      <td>1</td>\n",
       "      <td>25588235</td>\n",
       "      <td>25646966</td>\n",
       "      <td>1.139183</td>\n",
       "    </tr>\n",
       "    <tr>\n",
       "      <th>4</th>\n",
       "      <td>1</td>\n",
       "      <td>25646966</td>\n",
       "      <td>30737864</td>\n",
       "      <td>1.694665</td>\n",
       "    </tr>\n",
       "  </tbody>\n",
       "</table>\n",
       "</div>"
      ],
      "text/plain": [
       "  chromosome     start       end   abscopy\n",
       "0          1     61724  16906668  1.702907\n",
       "1          1  16906668  17016566  2.050534\n",
       "2          1  17016566  25588235  1.706452\n",
       "3          1  25588235  25646966  1.139183\n",
       "4          1  25646966  30737864  1.694665"
      ]
     },
     "execution_count": 11,
     "metadata": {},
     "output_type": "execute_result"
    }
   ],
   "source": [
    "cnv=cnv[['Chromosome', 'Start', 'End','abscopy']]\n",
    "cnv.columns=['chromosome', 'start', 'end', 'abscopy']\n",
    "cnv[\"chromosome\"]=cnv.chromosome.str.replace(\"chr\",\"\")\n",
    "cnv.head()"
   ]
  },
  {
   "cell_type": "code",
   "execution_count": 12,
   "id": "32757e9b",
   "metadata": {},
   "outputs": [
    {
     "data": {
      "text/plain": [
       "(1505, 36)"
      ]
     },
     "execution_count": 12,
     "metadata": {},
     "output_type": "execute_result"
    }
   ],
   "source": [
    "mut=pd.read_excel(Patient+\"_table.xlsx\",index_col=None)\n",
    "mut[\"key2\"]=mut.Key.str.split(\":\").apply(lambda x :x[1])\n",
    "mut[\"chromosome\"]=mut.key2.str.split(\".\").apply(lambda x :x[0])\n",
    "mut[\"position\"]=mut.Key.str.split(\".\").apply(lambda x :x[1])\n",
    "mut['position'] = mut['position'].astype(float)\n",
    "mut[\"chromosome\"]=mut.chromosome.str.replace(\"chr\",\"\")\n",
    "len(cnv),len(mut)"
   ]
  },
  {
   "cell_type": "code",
   "execution_count": 13,
   "id": "4725fdd4",
   "metadata": {},
   "outputs": [],
   "source": [
    "#Step1\n",
    "cnv_mut=mut.merge(cnv,on=\"chromosome\", how=\"outer\")\n",
    "cnv_mut['position'] = cnv_mut['position'].astype(float) #change ojbect to float/int\n",
    "#Step2\n",
    "cnv_mut=cnv_mut[cnv_mut[\"position\"].between(cnv_mut.pop(\"start\"),cnv_mut.pop(\"end\"))]\n",
    "## subset only columns needed\n",
    "cnv_mut_select=cnv_mut[[\"chromosome\",\"position\",\"abscopy\"]]\n",
    "#Step3\n",
    "final=mut.merge(cnv_mut_select,how=\"left\")"
   ]
  },
  {
   "cell_type": "code",
   "execution_count": 14,
   "id": "d89ab53d",
   "metadata": {},
   "outputs": [],
   "source": [
    "final1=final[['Key','abscopy']]"
   ]
  },
  {
   "cell_type": "code",
   "execution_count": 15,
   "id": "4a05e1ac",
   "metadata": {},
   "outputs": [
    {
     "name": "stderr",
     "output_type": "stream",
     "text": [
      "/var/folders/19/hnbyffk54hd9bzf5m3n39710562ngs/T/ipykernel_20568/1904508241.py:3: SettingWithCopyWarning: \n",
      "A value is trying to be set on a copy of a slice from a DataFrame.\n",
      "Try using .loc[row_indexer,col_indexer] = value instead\n",
      "\n",
      "See the caveats in the documentation: https://pandas.pydata.org/pandas-docs/stable/user_guide/indexing.html#returning-a-view-versus-a-copy\n",
      "  final1['Sample'] = [next(samples) for s in range(len(final1))]\n"
     ]
    },
    {
     "data": {
      "text/plain": [
       "36"
      ]
     },
     "execution_count": 15,
     "metadata": {},
     "output_type": "execute_result"
    }
   ],
   "source": [
    "from itertools import cycle\n",
    "samples = cycle(['A1','A2','A3','A4','G1'])\n",
    "final1['Sample'] = [next(samples) for s in range(len(final1))]\n",
    "final2=final1.pivot(index=\"Key\", columns=\"Sample\", values=\"abscopy\")\n",
    "final3=mut.merge(final2,how=\"left\", on=\"Key\")\n",
    "len(final3)"
   ]
  },
  {
   "cell_type": "code",
   "execution_count": 16,
   "id": "a2628d7e",
   "metadata": {},
   "outputs": [
    {
     "data": {
      "text/html": [
       "<div>\n",
       "<style scoped>\n",
       "    .dataframe tbody tr th:only-of-type {\n",
       "        vertical-align: middle;\n",
       "    }\n",
       "\n",
       "    .dataframe tbody tr th {\n",
       "        vertical-align: top;\n",
       "    }\n",
       "\n",
       "    .dataframe thead th {\n",
       "        text-align: right;\n",
       "    }\n",
       "</style>\n",
       "<table border=\"1\" class=\"dataframe\">\n",
       "  <thead>\n",
       "    <tr style=\"text-align: right;\">\n",
       "      <th></th>\n",
       "      <th>Key</th>\n",
       "      <th>Chromosome</th>\n",
       "      <th>Position</th>\n",
       "      <th>Ref_allele</th>\n",
       "      <th>Alt_allele</th>\n",
       "      <th>Gene</th>\n",
       "      <th>AAChange</th>\n",
       "      <th>Class</th>\n",
       "      <th>key2</th>\n",
       "      <th>chromosome</th>\n",
       "      <th>position</th>\n",
       "      <th>A1</th>\n",
       "      <th>A2</th>\n",
       "      <th>A3</th>\n",
       "      <th>A4</th>\n",
       "      <th>G1</th>\n",
       "    </tr>\n",
       "  </thead>\n",
       "  <tbody>\n",
       "    <tr>\n",
       "      <th>0</th>\n",
       "      <td>CELSR2:chr1.109817339.G.T</td>\n",
       "      <td>chr1</td>\n",
       "      <td>109817339</td>\n",
       "      <td>G</td>\n",
       "      <td>T</td>\n",
       "      <td>CELSR2</td>\n",
       "      <td>E34_UTR_3</td>\n",
       "      <td>UTR_3</td>\n",
       "      <td>chr1.109817339.G.T</td>\n",
       "      <td>1</td>\n",
       "      <td>109817339.0</td>\n",
       "      <td>1.667862</td>\n",
       "      <td>1.701727</td>\n",
       "      <td>1.988940</td>\n",
       "      <td>1.817556</td>\n",
       "      <td>2.001387</td>\n",
       "    </tr>\n",
       "    <tr>\n",
       "      <th>1</th>\n",
       "      <td>TCHHL1:chr1.152059809.C.A</td>\n",
       "      <td>chr1</td>\n",
       "      <td>152059809</td>\n",
       "      <td>C</td>\n",
       "      <td>A</td>\n",
       "      <td>TCHHL1</td>\n",
       "      <td>G117*</td>\n",
       "      <td>nonsense</td>\n",
       "      <td>chr1.152059809.C.A</td>\n",
       "      <td>1</td>\n",
       "      <td>152059809.0</td>\n",
       "      <td>2.380063</td>\n",
       "      <td>2.316586</td>\n",
       "      <td>2.030732</td>\n",
       "      <td>2.185555</td>\n",
       "      <td>2.012516</td>\n",
       "    </tr>\n",
       "    <tr>\n",
       "      <th>2</th>\n",
       "      <td>DUSP27:chr1.167096074.AGCCCG.-</td>\n",
       "      <td>chr1</td>\n",
       "      <td>167096074</td>\n",
       "      <td>AGCCCG</td>\n",
       "      <td>-</td>\n",
       "      <td>DUSP27</td>\n",
       "      <td>E569_G571&gt;G</td>\n",
       "      <td>proteinDel</td>\n",
       "      <td>chr1.167096074.AGCCCG.-</td>\n",
       "      <td>1</td>\n",
       "      <td>167096074.0</td>\n",
       "      <td>2.419988</td>\n",
       "      <td>2.323017</td>\n",
       "      <td>2.023706</td>\n",
       "      <td>2.205338</td>\n",
       "      <td>2.002775</td>\n",
       "    </tr>\n",
       "    <tr>\n",
       "      <th>3</th>\n",
       "      <td>SLC9A11:chr1.173505089.C.T</td>\n",
       "      <td>chr1</td>\n",
       "      <td>173505089</td>\n",
       "      <td>C</td>\n",
       "      <td>T</td>\n",
       "      <td>SLC9A11</td>\n",
       "      <td>K552_E15splice</td>\n",
       "      <td>splice</td>\n",
       "      <td>chr1.173505089.C.T</td>\n",
       "      <td>1</td>\n",
       "      <td>173505089.0</td>\n",
       "      <td>2.419988</td>\n",
       "      <td>2.323017</td>\n",
       "      <td>2.023706</td>\n",
       "      <td>2.205338</td>\n",
       "      <td>2.002775</td>\n",
       "    </tr>\n",
       "    <tr>\n",
       "      <th>4</th>\n",
       "      <td>IVNS1ABP:chr1.185269450.G.C</td>\n",
       "      <td>chr1</td>\n",
       "      <td>185269450</td>\n",
       "      <td>G</td>\n",
       "      <td>C</td>\n",
       "      <td>IVNS1ABP</td>\n",
       "      <td>S423*</td>\n",
       "      <td>nonsense</td>\n",
       "      <td>chr1.185269450.G.C</td>\n",
       "      <td>1</td>\n",
       "      <td>185269450.0</td>\n",
       "      <td>2.419988</td>\n",
       "      <td>2.323017</td>\n",
       "      <td>2.023706</td>\n",
       "      <td>2.205338</td>\n",
       "      <td>2.002775</td>\n",
       "    </tr>\n",
       "  </tbody>\n",
       "</table>\n",
       "</div>"
      ],
      "text/plain": [
       "                              Key Chromosome   Position Ref_allele Alt_allele  \\\n",
       "0       CELSR2:chr1.109817339.G.T       chr1  109817339          G          T   \n",
       "1       TCHHL1:chr1.152059809.C.A       chr1  152059809          C          A   \n",
       "2  DUSP27:chr1.167096074.AGCCCG.-       chr1  167096074     AGCCCG          -   \n",
       "3      SLC9A11:chr1.173505089.C.T       chr1  173505089          C          T   \n",
       "4     IVNS1ABP:chr1.185269450.G.C       chr1  185269450          G          C   \n",
       "\n",
       "       Gene        AAChange       Class                     key2 chromosome  \\\n",
       "0    CELSR2       E34_UTR_3       UTR_3       chr1.109817339.G.T          1   \n",
       "1    TCHHL1           G117*    nonsense       chr1.152059809.C.A          1   \n",
       "2    DUSP27     E569_G571>G  proteinDel  chr1.167096074.AGCCCG.-          1   \n",
       "3   SLC9A11  K552_E15splice      splice       chr1.173505089.C.T          1   \n",
       "4  IVNS1ABP           S423*    nonsense       chr1.185269450.G.C          1   \n",
       "\n",
       "      position        A1        A2        A3        A4        G1  \n",
       "0  109817339.0  1.667862  1.701727  1.988940  1.817556  2.001387  \n",
       "1  152059809.0  2.380063  2.316586  2.030732  2.185555  2.012516  \n",
       "2  167096074.0  2.419988  2.323017  2.023706  2.205338  2.002775  \n",
       "3  173505089.0  2.419988  2.323017  2.023706  2.205338  2.002775  \n",
       "4  185269450.0  2.419988  2.323017  2.023706  2.205338  2.002775  "
      ]
     },
     "execution_count": 16,
     "metadata": {},
     "output_type": "execute_result"
    }
   ],
   "source": [
    "final3.head()"
   ]
  },
  {
   "cell_type": "code",
   "execution_count": 17,
   "id": "265407c8",
   "metadata": {},
   "outputs": [],
   "source": [
    "final3.to_excel(\"Alternate_copyadded_output.xlsx\",index=None)"
   ]
  },
  {
   "cell_type": "code",
   "execution_count": null,
   "id": "cbe3010c",
   "metadata": {},
   "outputs": [],
   "source": []
  }
 ],
 "metadata": {
  "kernelspec": {
   "display_name": "Python 3 (ipykernel)",
   "language": "python",
   "name": "python3"
  },
  "language_info": {
   "codemirror_mode": {
    "name": "ipython",
    "version": 3
   },
   "file_extension": ".py",
   "mimetype": "text/x-python",
   "name": "python",
   "nbconvert_exporter": "python",
   "pygments_lexer": "ipython3",
   "version": "3.9.7"
  }
 },
 "nbformat": 4,
 "nbformat_minor": 5
}
