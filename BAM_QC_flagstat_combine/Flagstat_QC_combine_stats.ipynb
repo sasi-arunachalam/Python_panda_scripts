{
 "cells": [
  {
   "cell_type": "code",
   "execution_count": 1,
   "metadata": {},
   "outputs": [],
   "source": [
    "import os\n",
    "import numpy as np\n",
    "import pandas as pd\n",
    "import glob\n",
    "import sys"
   ]
  },
  {
   "cell_type": "code",
   "execution_count": 2,
   "metadata": {},
   "outputs": [],
   "source": [
    "#os.chdir(\"/yourworkingdirectory/\")"
   ]
  },
  {
   "cell_type": "code",
   "execution_count": 3,
   "metadata": {},
   "outputs": [],
   "source": [
    "import glob\n",
    "#mylist = [f for f in glob.glob(\"*.txt\")] ##this is list comprehension\n",
    "txtfiles = []\n",
    "for file in glob.glob(\"*.flagstat.txt\"):\n",
    "    txtfiles.append(file)\n",
    "samples = [x.split('_')[1].split('.')[0] for x in txtfiles] # this creates list of sample names "
   ]
  },
  {
   "cell_type": "code",
   "execution_count": 4,
   "metadata": {},
   "outputs": [],
   "source": [
    "combine=[]\n",
    "for file in txtfiles:  \n",
    "    with open(file) as f:\n",
    "        for line in f:\n",
    "            if 'in total' in line:\n",
    "                TotalReads = line.split(' ')[0]\n",
    "            if 'mapped (' in line:\n",
    "                MappedReads = line.split(' ')[0]\n",
    "            if 'duplicates' in line:\n",
    "                DupReads = line.split(' ')[0]\n",
    "    MapP = str((int(MappedReads) / int(TotalReads)) * 100)\n",
    "    DupP = str((int(DupReads) / int(MappedReads)) * 100)\n",
    "    samples=file.split('_')[1].split('.')[0]\n",
    "    #print(samples, '\\t', TotalReads, '\\t', MappedReads, '\\t', DupReads, '\\t', MapP, '\\t', DupP)\n",
    "    res=[samples,  TotalReads,  MappedReads,  DupReads,  MapP,  DupP]\n",
    "    combine.append(res)    "
   ]
  },
  {
   "cell_type": "code",
   "execution_count": 5,
   "metadata": {},
   "outputs": [],
   "source": [
    "import csv\n",
    "header=[\"Name\",\"TotalReads\",\"MappedReads\",\"DupReads\",\"MapP\",\"DupP\"]\n",
    "with open('Bam_QC_output.csv', 'w', newline='') as csvfile:\n",
    "    writer = csv.writer(csvfile, delimiter=',')\n",
    "    writer.writerow(i for i in header)\n",
    "    for j in combine:\n",
    "        writer.writerow(j)\n"
   ]
  },
  {
   "cell_type": "code",
   "execution_count": null,
   "metadata": {},
   "outputs": [],
   "source": []
  },
  {
   "cell_type": "code",
   "execution_count": null,
   "metadata": {},
   "outputs": [],
   "source": []
  },
  {
   "cell_type": "code",
   "execution_count": null,
   "metadata": {},
   "outputs": [],
   "source": []
  },
  {
   "cell_type": "code",
   "execution_count": null,
   "metadata": {},
   "outputs": [],
   "source": []
  }
 ],
 "metadata": {
  "kernelspec": {
   "display_name": "Python 3",
   "language": "python",
   "name": "python3"
  },
  "language_info": {
   "codemirror_mode": {
    "name": "ipython",
    "version": 3
   },
   "file_extension": ".py",
   "mimetype": "text/x-python",
   "name": "python",
   "nbconvert_exporter": "python",
   "pygments_lexer": "ipython3",
   "version": "3.8.5"
  }
 },
 "nbformat": 4,
 "nbformat_minor": 4
}
