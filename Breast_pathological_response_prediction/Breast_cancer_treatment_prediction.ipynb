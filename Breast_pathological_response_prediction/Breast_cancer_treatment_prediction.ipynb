{
 "cells": [
  {
   "cell_type": "code",
   "execution_count": 1,
   "id": "202287a9",
   "metadata": {},
   "outputs": [],
   "source": [
    "import pandas as pd \n",
    "import numpy as np\n",
    "import matplotlib.pyplot as plt\n",
    "from sklearn.model_selection import train_test_split\n",
    "from sklearn.metrics import classification_report\n",
    "from sklearn.metrics import confusion_matrix\n",
    "from sklearn.metrics import accuracy_score\n",
    "from sklearn.model_selection import cross_val_score\n",
    "from sklearn.model_selection import KFold\n",
    "from sklearn.tree import DecisionTreeClassifier\n",
    "from sklearn.ensemble import RandomForestClassifier\n",
    "from sklearn.neighbors import KNeighborsClassifier\n",
    "from sklearn.naive_bayes import GaussianNB\n",
    "from sklearn.pipeline import Pipeline\n",
    "from sklearn.preprocessing import StandardScaler\n",
    "from sklearn.model_selection import GridSearchCV\n",
    "from sklearn.svm import SVC\n",
    "import time\n",
    "import warnings "
   ]
  },
  {
   "cell_type": "code",
   "execution_count": 2,
   "id": "f72003a8",
   "metadata": {},
   "outputs": [
    {
     "name": "stdout",
     "output_type": "stream",
     "text": [
      "(229, 1034)\n"
     ]
    }
   ],
   "source": [
    "#input data\n",
    "df = pd.read_csv(\"modified_duke.csv\" , index_col=False)\n",
    "print(df.shape)"
   ]
  },
  {
   "cell_type": "code",
   "execution_count": 3,
   "id": "ee65c547",
   "metadata": {
    "scrolled": true
   },
   "outputs": [],
   "source": [
    "#df.describe()"
   ]
  },
  {
   "cell_type": "code",
   "execution_count": 4,
   "id": "c2c84183",
   "metadata": {},
   "outputs": [
    {
     "name": "stdout",
     "output_type": "stream",
     "text": [
      "(229, 1033)\n"
     ]
    }
   ],
   "source": [
    "# data preprocessing \n",
    "# you could also do encoder function here. i choose do lambda function\n",
    "df['Path_Response'] = df['Path_Response'].apply(lambda x : 0 if x == 2 else x )\n",
    "df = df.set_index('Patient_ID')\n",
    "#del df['Unnamed: 32']\n",
    "print(df.shape)"
   ]
  },
  {
   "cell_type": "code",
   "execution_count": 5,
   "id": "7cdbfd54",
   "metadata": {},
   "outputs": [
    {
     "name": "stdout",
     "output_type": "stream",
     "text": [
      "Path_Response\n",
      "0    178\n",
      "1     51\n",
      "dtype: int64\n"
     ]
    }
   ],
   "source": [
    "print(df.groupby('Path_Response').size())"
   ]
  },
  {
   "cell_type": "code",
   "execution_count": 6,
   "id": "04648a58",
   "metadata": {},
   "outputs": [
    {
     "name": "stdout",
     "output_type": "stream",
     "text": [
      "<class 'pandas.core.series.Series'>\n",
      "(229,)\n",
      "(229, 1032)\n"
     ]
    }
   ],
   "source": [
    "# splitting into training and test sets for series\n",
    "Y = df['Path_Response']\n",
    "print(type(Y))\n",
    "print(Y.shape)\n",
    "X = df.drop(['Path_Response'] , axis = 1)\n",
    "print(X.shape)\n",
    "\n",
    "X_train , X_test , Y_train , Y_test  = train_test_split(X , Y , test_size = 0.2 , random_state = 15)"
   ]
  },
  {
   "cell_type": "code",
   "execution_count": 7,
   "id": "754c553a",
   "metadata": {},
   "outputs": [],
   "source": [
    "# Models for comparison\n",
    "models_list = []\n",
    "models_list.append(('CART', DecisionTreeClassifier()))\n",
    "models_list.append(('SVM' , SVC()))\n",
    "models_list.append(('NB' , GaussianNB()))\n",
    "models_list.append(('KNN' , KNeighborsClassifier()))\n",
    "models_list.append(('rf' , RandomForestClassifier()))"
   ]
  },
  {
   "cell_type": "code",
   "execution_count": 8,
   "id": "53f9cf6f",
   "metadata": {},
   "outputs": [
    {
     "name": "stdout",
     "output_type": "stream",
     "text": [
      "CART: 0.637719 (0.138841) (run time: 0.858656)\n",
      "SVM: 0.770468 (0.064450) (run time: 0.146499)\n",
      "NB: 0.311696 (0.066384) (run time: 0.111788)\n",
      "KNN: 0.748246 (0.062868) (run time: 0.227951)\n",
      "rf: 0.759649 (0.055166) (run time: 2.064597)\n"
     ]
    }
   ],
   "source": [
    "# Evaluation of model accuracy  using raw data\n",
    "num_folds = 10\n",
    "results = []\n",
    "names = []\n",
    "\n",
    "for name , model in models_list:\n",
    "    kfold = KFold(n_splits = num_folds )\n",
    "    start = time.time()\n",
    "    cv_results = cross_val_score(model , X_train , Y_train , cv = kfold , scoring = 'accuracy')\n",
    "    end = time.time()\n",
    "    results.append(cv_results)\n",
    "    names.append(name)\n",
    "    print(\"%s: %f (%f) (run time: %f)\" %(name, cv_results.mean(), cv_results.std(), end-start))"
   ]
  },
  {
   "cell_type": "code",
   "execution_count": 9,
   "id": "e3919c3e",
   "metadata": {},
   "outputs": [
    {
     "data": {
      "image/png": "[encoded data removed]",
      "text/plain": [
       "<Figure size 432x288 with 1 Axes>"
      ]
     },
     "metadata": {
      "needs_background": "light"
     },
     "output_type": "display_data"
    }
   ],
   "source": [
    "#plot the model accuracy\n",
    "fig = plt.figure()\n",
    "fig.suptitle('Performance Comparison of raw data')\n",
    "ax = fig.add_subplot(111)\n",
    "plt.boxplot(results)\n",
    "ax.set_xticklabels(names)\n",
    "plt.show()"
   ]
  },
  {
   "cell_type": "code",
   "execution_count": 10,
   "id": "c547755d",
   "metadata": {},
   "outputs": [
    {
     "name": "stdout",
     "output_type": "stream",
     "text": [
      "ScaledCART: 0.627778 (0.099750) (run time: 0.983461)\n",
      "ScaledSVM: 0.770468 (0.064450) (run time: 0.240833)\n",
      "ScaledNB: 0.421345 (0.101217) (run time: 0.178198)\n",
      "ScaledKNN: 0.743567 (0.053085) (run time: 0.301906)\n",
      "Scaledrf: 0.759357 (0.057015) (run time: 2.213838)\n"
     ]
    }
   ],
   "source": [
    "#Evaluation of algorithm on Standardised dataset\n",
    "\n",
    "import warnings \n",
    "pipelines = []\n",
    "pipelines.append(('ScaledCART', Pipeline([('Scaler', StandardScaler()),('CART',\n",
    "                                                                        DecisionTreeClassifier())])))\n",
    "pipelines.append(('ScaledSVM', Pipeline([('Scaler', StandardScaler()),('SVM', SVC( ))])))\n",
    "pipelines.append(('ScaledNB', Pipeline([('Scaler', StandardScaler()),('NB',\n",
    "                                                                      GaussianNB())])))\n",
    "pipelines.append(('ScaledKNN', Pipeline([('Scaler', StandardScaler()),('KNN',\n",
    "                                                                       KNeighborsClassifier())])))\n",
    "pipelines.append(('Scaledrf', Pipeline([('Scaler', StandardScaler()),('rf',\n",
    "                                                                       RandomForestClassifier())])))\n",
    "results = []\n",
    "names = []\n",
    "with warnings.catch_warnings():\n",
    "    warnings.simplefilter(\"ignore\")\n",
    "    kfold = KFold(n_splits = num_folds )\n",
    "    for name , model in pipelines:\n",
    "        start = time.time()\n",
    "        cv_results = cross_val_score(model , X_train , Y_train , cv = kfold , scoring = 'accuracy')\n",
    "        end = time.time()\n",
    "        results.append(cv_results)\n",
    "        names.append(name)\n",
    "        print(\"%s: %f (%f) (run time: %f)\" % (name , cv_results.mean() , cv_results.std() , end-start))\n"
   ]
  },
  {
   "cell_type": "code",
   "execution_count": 11,
   "id": "6e838edc",
   "metadata": {},
   "outputs": [
    {
     "data": {
      "image/png": "[encoded data removed]",
      "text/plain": [
       "<Figure size 432x288 with 1 Axes>"
      ]
     },
     "metadata": {
      "needs_background": "light"
     },
     "output_type": "display_data"
    }
   ],
   "source": [
    "fig = plt.figure()\n",
    "fig.suptitle('Performance Comparison on standardised data')\n",
    "ax = fig.add_subplot(111)\n",
    "plt.boxplot(results)\n",
    "ax.set_xticklabels(names)\n",
    "plt.show()"
   ]
  },
  {
   "cell_type": "code",
   "execution_count": 12,
   "id": "25ef8638",
   "metadata": {},
   "outputs": [
    {
     "name": "stdout",
     "output_type": "stream",
     "text": [
      " SVM seems to be better model\n"
     ]
    }
   ],
   "source": [
    "print(\" SVM seems to be better model\")"
   ]
  },
  {
   "cell_type": "markdown",
   "id": "07d3a691",
   "metadata": {},
   "source": [
    "**Choosing SVM**"
   ]
  },
  {
   "cell_type": "code",
   "execution_count": 13,
   "id": "94ba0bdf",
   "metadata": {
    "scrolled": true
   },
   "outputs": [
    {
     "name": "stdout",
     "output_type": "stream",
     "text": [
      "Best : 0.781287 using {'C': 1.7, 'kernel': 'poly'}\n",
      "0.704094 (0.102287) with: {'C': 0.1, 'kernel': 'linear'}\n",
      "0.753801 (0.071942) with: {'C': 0.1, 'kernel': 'poly'}\n",
      "0.770468 (0.064450) with: {'C': 0.1, 'kernel': 'rbf'}\n",
      "0.770468 (0.064450) with: {'C': 0.1, 'kernel': 'sigmoid'}\n",
      "0.692982 (0.100943) with: {'C': 0.3, 'kernel': 'linear'}\n",
      "0.753801 (0.067515) with: {'C': 0.3, 'kernel': 'poly'}\n",
      "0.770468 (0.064450) with: {'C': 0.3, 'kernel': 'rbf'}\n",
      "0.770468 (0.064450) with: {'C': 0.3, 'kernel': 'sigmoid'}\n",
      "0.692982 (0.100943) with: {'C': 0.5, 'kernel': 'linear'}\n",
      "0.759357 (0.062193) with: {'C': 0.5, 'kernel': 'poly'}\n",
      "0.770468 (0.064450) with: {'C': 0.5, 'kernel': 'rbf'}\n",
      "0.764912 (0.065958) with: {'C': 0.5, 'kernel': 'sigmoid'}\n",
      "0.692982 (0.100943) with: {'C': 0.7, 'kernel': 'linear'}\n",
      "0.759357 (0.062193) with: {'C': 0.7, 'kernel': 'poly'}\n",
      "0.770468 (0.064450) with: {'C': 0.7, 'kernel': 'rbf'}\n",
      "0.770468 (0.064450) with: {'C': 0.7, 'kernel': 'sigmoid'}\n",
      "0.692982 (0.100943) with: {'C': 0.9, 'kernel': 'linear'}\n",
      "0.770468 (0.047979) with: {'C': 0.9, 'kernel': 'poly'}\n",
      "0.770468 (0.064450) with: {'C': 0.9, 'kernel': 'rbf'}\n",
      "0.776023 (0.067178) with: {'C': 0.9, 'kernel': 'sigmoid'}\n",
      "0.692982 (0.100943) with: {'C': 1.0, 'kernel': 'linear'}\n",
      "0.770468 (0.047979) with: {'C': 1.0, 'kernel': 'poly'}\n",
      "0.770468 (0.064450) with: {'C': 1.0, 'kernel': 'rbf'}\n",
      "0.776023 (0.067178) with: {'C': 1.0, 'kernel': 'sigmoid'}\n",
      "0.692982 (0.100943) with: {'C': 1.3, 'kernel': 'linear'}\n",
      "0.770468 (0.047979) with: {'C': 1.3, 'kernel': 'poly'}\n",
      "0.770468 (0.064450) with: {'C': 1.3, 'kernel': 'rbf'}\n",
      "0.776023 (0.067178) with: {'C': 1.3, 'kernel': 'sigmoid'}\n",
      "0.692982 (0.100943) with: {'C': 1.5, 'kernel': 'linear'}\n",
      "0.775731 (0.046876) with: {'C': 1.5, 'kernel': 'poly'}\n",
      "0.770468 (0.064450) with: {'C': 1.5, 'kernel': 'rbf'}\n",
      "0.759357 (0.075629) with: {'C': 1.5, 'kernel': 'sigmoid'}\n",
      "0.692982 (0.100943) with: {'C': 1.7, 'kernel': 'linear'}\n",
      "0.781287 (0.043366) with: {'C': 1.7, 'kernel': 'poly'}\n",
      "0.770468 (0.064450) with: {'C': 1.7, 'kernel': 'rbf'}\n",
      "0.748246 (0.072021) with: {'C': 1.7, 'kernel': 'sigmoid'}\n",
      "0.692982 (0.100943) with: {'C': 2.0, 'kernel': 'linear'}\n",
      "0.781287 (0.043366) with: {'C': 2.0, 'kernel': 'poly'}\n",
      "0.776023 (0.075812) with: {'C': 2.0, 'kernel': 'rbf'}\n",
      "0.748246 (0.072021) with: {'C': 2.0, 'kernel': 'sigmoid'}\n"
     ]
    }
   ],
   "source": [
    "# Tuning SVM\n",
    "scaler = StandardScaler().fit(X_train)\n",
    "rescaledX = scaler.transform(X_train)\n",
    "c_values = [0.1 , 0.3 , 0.5 , 0.7 , 0.9 , 1.0 , 1.3 , 1.5 , 1.7 , 2.0]\n",
    "kernel_values = ['linear' , 'poly' , 'rbf' , 'sigmoid']\n",
    "param_grid = dict(C = c_values , kernel = kernel_values)\n",
    "model = SVC()\n",
    "kfold = KFold(n_splits = num_folds)\n",
    "grid = GridSearchCV(estimator = model , param_grid = param_grid , scoring = 'accuracy' , cv = kfold)\n",
    "grid_result = grid.fit(rescaledX , Y_train)\n",
    "print(\"Best : %f using %s\" % (grid_result.best_score_ , grid_result.best_params_))\n",
    "means = grid_result.cv_results_['mean_test_score']\n",
    "stds = grid_result.cv_results_['std_test_score']\n",
    "params = grid_result.cv_results_['params']\n",
    "for mean, stdev, param in zip(means, stds, params):\n",
    "    print(\"%f (%f) with: %r\" % (mean, stdev, param))"
   ]
  },
  {
   "cell_type": "code",
   "execution_count": 14,
   "id": "ef7e01c2",
   "metadata": {},
   "outputs": [
    {
     "name": "stdout",
     "output_type": "stream",
     "text": [
      " SVM 'c' = 2.0, kernal = 'poly' seems to be better parameter\n"
     ]
    }
   ],
   "source": [
    "print(\" SVM 'c' = 2.0, kernal = 'poly' seems to be better parameter\")"
   ]
  },
  {
   "cell_type": "code",
   "execution_count": 15,
   "id": "1733df56",
   "metadata": {},
   "outputs": [
    {
     "name": "stdout",
     "output_type": "stream",
     "text": [
      "Run Time: 0.008220\n"
     ]
    }
   ],
   "source": [
    "# Fit the  model\n",
    "with warnings.catch_warnings():\n",
    "    warnings.simplefilter(\"ignore\")\n",
    "    scaler = StandardScaler().fit(X_train)\n",
    "X_train_scaled = scaler.transform(X_train)\n",
    "model = SVC(C=2.0, kernel='poly')\n",
    "start = time.time()\n",
    "model.fit(X_train_scaled, Y_train)\n",
    "end = time.time()\n",
    "print( \"Run Time: %f\" % (end-start))"
   ]
  },
  {
   "cell_type": "code",
   "execution_count": 16,
   "id": "1bcb6cd0",
   "metadata": {},
   "outputs": [],
   "source": [
    "# Estimate accuracy on test dataset\n",
    "with warnings.catch_warnings():\n",
    "    warnings.simplefilter(\"ignore\")\n",
    "    X_test_scaled = scaler.transform(X_test)\n",
    "predictions = model.predict(X_test_scaled)"
   ]
  },
  {
   "cell_type": "code",
   "execution_count": 17,
   "id": "2035a519",
   "metadata": {},
   "outputs": [
    {
     "name": "stdout",
     "output_type": "stream",
     "text": [
      "Accuracy score 0.804348\n",
      "              precision    recall  f1-score   support\n",
      "\n",
      "           0       0.80      1.00      0.89        37\n",
      "           1       0.00      0.00      0.00         9\n",
      "\n",
      "    accuracy                           0.80        46\n",
      "   macro avg       0.40      0.50      0.45        46\n",
      "weighted avg       0.65      0.80      0.72        46\n",
      "\n"
     ]
    },
    {
     "name": "stderr",
     "output_type": "stream",
     "text": [
      "/Users/sasi/opt/anaconda3/lib/python3.9/site-packages/sklearn/metrics/_classification.py:1344: UndefinedMetricWarning: Precision and F-score are ill-defined and being set to 0.0 in labels with no predicted samples. Use `zero_division` parameter to control this behavior.\n",
      "  _warn_prf(average, modifier, msg_start, len(result))\n",
      "/Users/sasi/opt/anaconda3/lib/python3.9/site-packages/sklearn/metrics/_classification.py:1344: UndefinedMetricWarning: Precision and F-score are ill-defined and being set to 0.0 in labels with no predicted samples. Use `zero_division` parameter to control this behavior.\n",
      "  _warn_prf(average, modifier, msg_start, len(result))\n",
      "/Users/sasi/opt/anaconda3/lib/python3.9/site-packages/sklearn/metrics/_classification.py:1344: UndefinedMetricWarning: Precision and F-score are ill-defined and being set to 0.0 in labels with no predicted samples. Use `zero_division` parameter to control this behavior.\n",
      "  _warn_prf(average, modifier, msg_start, len(result))\n"
     ]
    }
   ],
   "source": [
    "print(\"Accuracy score %f\" % accuracy_score(Y_test, predictions))\n",
    "print(classification_report(Y_test, predictions))\n"
   ]
  },
  {
   "cell_type": "code",
   "execution_count": 18,
   "id": "cc7192ea",
   "metadata": {},
   "outputs": [
    {
     "name": "stdout",
     "output_type": "stream",
     "text": [
      "[[37  0]\n",
      " [ 9  0]]\n"
     ]
    }
   ],
   "source": [
    "print(confusion_matrix(Y_test, predictions))"
   ]
  },
  {
   "cell_type": "code",
   "execution_count": 19,
   "id": "8abafcac",
   "metadata": {},
   "outputs": [
    {
     "data": {
      "text/html": [
       "<div>\n",
       "<style scoped>\n",
       "    .dataframe tbody tr th:only-of-type {\n",
       "        vertical-align: middle;\n",
       "    }\n",
       "\n",
       "    .dataframe tbody tr th {\n",
       "        vertical-align: top;\n",
       "    }\n",
       "\n",
       "    .dataframe thead th {\n",
       "        text-align: right;\n",
       "    }\n",
       "</style>\n",
       "<table border=\"1\" class=\"dataframe\">\n",
       "  <thead>\n",
       "    <tr style=\"text-align: right;\">\n",
       "      <th></th>\n",
       "      <th>Actual</th>\n",
       "      <th>Predictions</th>\n",
       "    </tr>\n",
       "    <tr>\n",
       "      <th>Patient_ID</th>\n",
       "      <th></th>\n",
       "      <th></th>\n",
       "    </tr>\n",
       "  </thead>\n",
       "  <tbody>\n",
       "    <tr>\n",
       "      <th>Breast_MRI_687</th>\n",
       "      <td>0</td>\n",
       "      <td>0</td>\n",
       "    </tr>\n",
       "    <tr>\n",
       "      <th>Breast_MRI_539</th>\n",
       "      <td>1</td>\n",
       "      <td>0</td>\n",
       "    </tr>\n",
       "    <tr>\n",
       "      <th>Breast_MRI_884</th>\n",
       "      <td>0</td>\n",
       "      <td>0</td>\n",
       "    </tr>\n",
       "    <tr>\n",
       "      <th>Breast_MRI_672</th>\n",
       "      <td>0</td>\n",
       "      <td>0</td>\n",
       "    </tr>\n",
       "    <tr>\n",
       "      <th>Breast_MRI_751</th>\n",
       "      <td>0</td>\n",
       "      <td>0</td>\n",
       "    </tr>\n",
       "    <tr>\n",
       "      <th>Breast_MRI_397</th>\n",
       "      <td>0</td>\n",
       "      <td>0</td>\n",
       "    </tr>\n",
       "    <tr>\n",
       "      <th>Breast_MRI_757</th>\n",
       "      <td>0</td>\n",
       "      <td>0</td>\n",
       "    </tr>\n",
       "    <tr>\n",
       "      <th>Breast_MRI_517</th>\n",
       "      <td>0</td>\n",
       "      <td>0</td>\n",
       "    </tr>\n",
       "    <tr>\n",
       "      <th>Breast_MRI_857</th>\n",
       "      <td>0</td>\n",
       "      <td>0</td>\n",
       "    </tr>\n",
       "    <tr>\n",
       "      <th>Breast_MRI_694</th>\n",
       "      <td>0</td>\n",
       "      <td>0</td>\n",
       "    </tr>\n",
       "  </tbody>\n",
       "</table>\n",
       "</div>"
      ],
      "text/plain": [
       "                Actual  Predictions\n",
       "Patient_ID                         \n",
       "Breast_MRI_687       0            0\n",
       "Breast_MRI_539       1            0\n",
       "Breast_MRI_884       0            0\n",
       "Breast_MRI_672       0            0\n",
       "Breast_MRI_751       0            0\n",
       "Breast_MRI_397       0            0\n",
       "Breast_MRI_757       0            0\n",
       "Breast_MRI_517       0            0\n",
       "Breast_MRI_857       0            0\n",
       "Breast_MRI_694       0            0"
      ]
     },
     "execution_count": 19,
     "metadata": {},
     "output_type": "execute_result"
    }
   ],
   "source": [
    "Act_vs_pred = pd.DataFrame({\"Actual\": Y_test, \"Predictions\": model.predict(X_test_scaled)})\n",
    "Act_vs_pred.head(10)"
   ]
  },
  {
   "cell_type": "markdown",
   "id": "a46c6e36",
   "metadata": {},
   "source": [
    "**Another approach**"
   ]
  },
  {
   "cell_type": "markdown",
   "id": "94e18757",
   "metadata": {},
   "source": [
    "**Feature selection and then fit the model**"
   ]
  },
  {
   "cell_type": "markdown",
   "id": "67971d22",
   "metadata": {},
   "source": [
    "**Select best features from Lasso and build model**"
   ]
  },
  {
   "cell_type": "code",
   "execution_count": 20,
   "id": "47784442",
   "metadata": {},
   "outputs": [],
   "source": [
    "import numpy as np\n",
    "import pandas as pd\n",
    "from sklearn.feature_selection import SelectFromModel\n",
    "from sklearn.linear_model import Lasso\n",
    "from sklearn.model_selection import train_test_split\n",
    "from sklearn.preprocessing import StandardScaler"
   ]
  },
  {
   "cell_type": "code",
   "execution_count": 21,
   "id": "c5873373",
   "metadata": {},
   "outputs": [
    {
     "data": {
      "text/html": [
       "<style>#sk-container-id-1 {color: black;background-color: white;}#sk-container-id-1 pre{padding: 0;}#sk-container-id-1 div.sk-toggleable {background-color: white;}#sk-container-id-1 label.sk-toggleable__label {cursor: pointer;display: block;width: 100%;margin-bottom: 0;padding: 0.3em;box-sizing: border-box;text-align: center;}#sk-container-id-1 label.sk-toggleable__label-arrow:before {content: \"▸\";float: left;margin-right: 0.25em;color: #696969;}#sk-container-id-1 label.sk-toggleable__label-arrow:hover:before {color: black;}#sk-container-id-1 div.sk-estimator:hover label.sk-toggleable__label-arrow:before {color: black;}#sk-container-id-1 div.sk-toggleable__content {max-height: 0;max-width: 0;overflow: hidden;text-align: left;background-color: #f0f8ff;}#sk-container-id-1 div.sk-toggleable__content pre {margin: 0.2em;color: black;border-radius: 0.25em;background-color: #f0f8ff;}#sk-container-id-1 input.sk-toggleable__control:checked~div.sk-toggleable__content {max-height: 200px;max-width: 100%;overflow: auto;}#sk-container-id-1 input.sk-toggleable__control:checked~label.sk-toggleable__label-arrow:before {content: \"▾\";}#sk-container-id-1 div.sk-estimator input.sk-toggleable__control:checked~label.sk-toggleable__label {background-color: #d4ebff;}#sk-container-id-1 div.sk-label input.sk-toggleable__control:checked~label.sk-toggleable__label {background-color: #d4ebff;}#sk-container-id-1 input.sk-hidden--visually {border: 0;clip: rect(1px 1px 1px 1px);clip: rect(1px, 1px, 1px, 1px);height: 1px;margin: -1px;overflow: hidden;padding: 0;position: absolute;width: 1px;}#sk-container-id-1 div.sk-estimator {font-family: monospace;background-color: #f0f8ff;border: 1px dotted black;border-radius: 0.25em;box-sizing: border-box;margin-bottom: 0.5em;}#sk-container-id-1 div.sk-estimator:hover {background-color: #d4ebff;}#sk-container-id-1 div.sk-parallel-item::after {content: \"\";width: 100%;border-bottom: 1px solid gray;flex-grow: 1;}#sk-container-id-1 div.sk-label:hover label.sk-toggleable__label {background-color: #d4ebff;}#sk-container-id-1 div.sk-serial::before {content: \"\";position: absolute;border-left: 1px solid gray;box-sizing: border-box;top: 0;bottom: 0;left: 50%;z-index: 0;}#sk-container-id-1 div.sk-serial {display: flex;flex-direction: column;align-items: center;background-color: white;padding-right: 0.2em;padding-left: 0.2em;position: relative;}#sk-container-id-1 div.sk-item {position: relative;z-index: 1;}#sk-container-id-1 div.sk-parallel {display: flex;align-items: stretch;justify-content: center;background-color: white;position: relative;}#sk-container-id-1 div.sk-item::before, #sk-container-id-1 div.sk-parallel-item::before {content: \"\";position: absolute;border-left: 1px solid gray;box-sizing: border-box;top: 0;bottom: 0;left: 50%;z-index: -1;}#sk-container-id-1 div.sk-parallel-item {display: flex;flex-direction: column;z-index: 1;position: relative;background-color: white;}#sk-container-id-1 div.sk-parallel-item:first-child::after {align-self: flex-end;width: 50%;}#sk-container-id-1 div.sk-parallel-item:last-child::after {align-self: flex-start;width: 50%;}#sk-container-id-1 div.sk-parallel-item:only-child::after {width: 0;}#sk-container-id-1 div.sk-dashed-wrapped {border: 1px dashed gray;margin: 0 0.4em 0.5em 0.4em;box-sizing: border-box;padding-bottom: 0.4em;background-color: white;}#sk-container-id-1 div.sk-label label {font-family: monospace;font-weight: bold;display: inline-block;line-height: 1.2em;}#sk-container-id-1 div.sk-label-container {text-align: center;}#sk-container-id-1 div.sk-container {/* jupyter's `normalize.less` sets `[hidden] { display: none; }` but bootstrap.min.css set `[hidden] { display: none !important; }` so we also need the `!important` here to be able to override the default hidden behavior on the sphinx rendered scikit-learn.org. See: https://github.com/scikit-learn/scikit-learn/issues/21755 */display: inline-block !important;position: relative;}#sk-container-id-1 div.sk-text-repr-fallback {display: none;}</style><div id=\"sk-container-id-1\" class=\"sk-top-container\"><div class=\"sk-text-repr-fallback\"><pre>StandardScaler()</pre><b>In a Jupyter environment, please rerun this cell to show the HTML representation or trust the notebook. <br />On GitHub, the HTML representation is unable to render, please try loading this page with nbviewer.org.</b></div><div class=\"sk-container\" hidden><div class=\"sk-item\"><div class=\"sk-estimator sk-toggleable\"><input class=\"sk-toggleable__control sk-hidden--visually\" id=\"sk-estimator-id-1\" type=\"checkbox\" checked><label for=\"sk-estimator-id-1\" class=\"sk-toggleable__label sk-toggleable__label-arrow\">StandardScaler</label><div class=\"sk-toggleable__content\"><pre>StandardScaler()</pre></div></div></div></div></div>"
      ],
      "text/plain": [
       "StandardScaler()"
      ]
     },
     "execution_count": 21,
     "metadata": {},
     "output_type": "execute_result"
    }
   ],
   "source": [
    "# scale the features\n",
    "scaler = StandardScaler()\n",
    "scaler.fit(X_train)"
   ]
  },
  {
   "cell_type": "code",
   "execution_count": 22,
   "id": "1d91a8ba",
   "metadata": {},
   "outputs": [
    {
     "name": "stderr",
     "output_type": "stream",
     "text": [
      "/Users/sasi/opt/anaconda3/lib/python3.9/site-packages/sklearn/linear_model/_coordinate_descent.py:634: ConvergenceWarning: Objective did not converge. You might want to increase the number of iterations, check the scale of the features or consider increasing regularisation. Duality gap: 7.477e-01, tolerance: 3.236e-03\n",
      "  model = cd_fast.enet_coordinate_descent(\n"
     ]
    },
    {
     "data": {
      "text/html": [
       "<style>#sk-container-id-2 {color: black;background-color: white;}#sk-container-id-2 pre{padding: 0;}#sk-container-id-2 div.sk-toggleable {background-color: white;}#sk-container-id-2 label.sk-toggleable__label {cursor: pointer;display: block;width: 100%;margin-bottom: 0;padding: 0.3em;box-sizing: border-box;text-align: center;}#sk-container-id-2 label.sk-toggleable__label-arrow:before {content: \"▸\";float: left;margin-right: 0.25em;color: #696969;}#sk-container-id-2 label.sk-toggleable__label-arrow:hover:before {color: black;}#sk-container-id-2 div.sk-estimator:hover label.sk-toggleable__label-arrow:before {color: black;}#sk-container-id-2 div.sk-toggleable__content {max-height: 0;max-width: 0;overflow: hidden;text-align: left;background-color: #f0f8ff;}#sk-container-id-2 div.sk-toggleable__content pre {margin: 0.2em;color: black;border-radius: 0.25em;background-color: #f0f8ff;}#sk-container-id-2 input.sk-toggleable__control:checked~div.sk-toggleable__content {max-height: 200px;max-width: 100%;overflow: auto;}#sk-container-id-2 input.sk-toggleable__control:checked~label.sk-toggleable__label-arrow:before {content: \"▾\";}#sk-container-id-2 div.sk-estimator input.sk-toggleable__control:checked~label.sk-toggleable__label {background-color: #d4ebff;}#sk-container-id-2 div.sk-label input.sk-toggleable__control:checked~label.sk-toggleable__label {background-color: #d4ebff;}#sk-container-id-2 input.sk-hidden--visually {border: 0;clip: rect(1px 1px 1px 1px);clip: rect(1px, 1px, 1px, 1px);height: 1px;margin: -1px;overflow: hidden;padding: 0;position: absolute;width: 1px;}#sk-container-id-2 div.sk-estimator {font-family: monospace;background-color: #f0f8ff;border: 1px dotted black;border-radius: 0.25em;box-sizing: border-box;margin-bottom: 0.5em;}#sk-container-id-2 div.sk-estimator:hover {background-color: #d4ebff;}#sk-container-id-2 div.sk-parallel-item::after {content: \"\";width: 100%;border-bottom: 1px solid gray;flex-grow: 1;}#sk-container-id-2 div.sk-label:hover label.sk-toggleable__label {background-color: #d4ebff;}#sk-container-id-2 div.sk-serial::before {content: \"\";position: absolute;border-left: 1px solid gray;box-sizing: border-box;top: 0;bottom: 0;left: 50%;z-index: 0;}#sk-container-id-2 div.sk-serial {display: flex;flex-direction: column;align-items: center;background-color: white;padding-right: 0.2em;padding-left: 0.2em;position: relative;}#sk-container-id-2 div.sk-item {position: relative;z-index: 1;}#sk-container-id-2 div.sk-parallel {display: flex;align-items: stretch;justify-content: center;background-color: white;position: relative;}#sk-container-id-2 div.sk-item::before, #sk-container-id-2 div.sk-parallel-item::before {content: \"\";position: absolute;border-left: 1px solid gray;box-sizing: border-box;top: 0;bottom: 0;left: 50%;z-index: -1;}#sk-container-id-2 div.sk-parallel-item {display: flex;flex-direction: column;z-index: 1;position: relative;background-color: white;}#sk-container-id-2 div.sk-parallel-item:first-child::after {align-self: flex-end;width: 50%;}#sk-container-id-2 div.sk-parallel-item:last-child::after {align-self: flex-start;width: 50%;}#sk-container-id-2 div.sk-parallel-item:only-child::after {width: 0;}#sk-container-id-2 div.sk-dashed-wrapped {border: 1px dashed gray;margin: 0 0.4em 0.5em 0.4em;box-sizing: border-box;padding-bottom: 0.4em;background-color: white;}#sk-container-id-2 div.sk-label label {font-family: monospace;font-weight: bold;display: inline-block;line-height: 1.2em;}#sk-container-id-2 div.sk-label-container {text-align: center;}#sk-container-id-2 div.sk-container {/* jupyter's `normalize.less` sets `[hidden] { display: none; }` but bootstrap.min.css set `[hidden] { display: none !important; }` so we also need the `!important` here to be able to override the default hidden behavior on the sphinx rendered scikit-learn.org. See: https://github.com/scikit-learn/scikit-learn/issues/21755 */display: inline-block !important;position: relative;}#sk-container-id-2 div.sk-text-repr-fallback {display: none;}</style><div id=\"sk-container-id-2\" class=\"sk-top-container\"><div class=\"sk-text-repr-fallback\"><pre>SelectFromModel(estimator=Lasso(alpha=0.001, random_state=10))</pre><b>In a Jupyter environment, please rerun this cell to show the HTML representation or trust the notebook. <br />On GitHub, the HTML representation is unable to render, please try loading this page with nbviewer.org.</b></div><div class=\"sk-container\" hidden><div class=\"sk-item sk-dashed-wrapped\"><div class=\"sk-label-container\"><div class=\"sk-label sk-toggleable\"><input class=\"sk-toggleable__control sk-hidden--visually\" id=\"sk-estimator-id-2\" type=\"checkbox\" ><label for=\"sk-estimator-id-2\" class=\"sk-toggleable__label sk-toggleable__label-arrow\">SelectFromModel</label><div class=\"sk-toggleable__content\"><pre>SelectFromModel(estimator=Lasso(alpha=0.001, random_state=10))</pre></div></div></div><div class=\"sk-parallel\"><div class=\"sk-parallel-item\"><div class=\"sk-item\"><div class=\"sk-label-container\"><div class=\"sk-label sk-toggleable\"><input class=\"sk-toggleable__control sk-hidden--visually\" id=\"sk-estimator-id-3\" type=\"checkbox\" ><label for=\"sk-estimator-id-3\" class=\"sk-toggleable__label sk-toggleable__label-arrow\">estimator: Lasso</label><div class=\"sk-toggleable__content\"><pre>Lasso(alpha=0.001, random_state=10)</pre></div></div></div><div class=\"sk-serial\"><div class=\"sk-item\"><div class=\"sk-estimator sk-toggleable\"><input class=\"sk-toggleable__control sk-hidden--visually\" id=\"sk-estimator-id-4\" type=\"checkbox\" ><label for=\"sk-estimator-id-4\" class=\"sk-toggleable__label sk-toggleable__label-arrow\">Lasso</label><div class=\"sk-toggleable__content\"><pre>Lasso(alpha=0.001, random_state=10)</pre></div></div></div></div></div></div></div></div></div></div>"
      ],
      "text/plain": [
       "SelectFromModel(estimator=Lasso(alpha=0.001, random_state=10))"
      ]
     },
     "execution_count": 22,
     "metadata": {},
     "output_type": "execute_result"
    }
   ],
   "source": [
    "#  linear regression object from sklearn does not allow for regularisation. So for a regularised \n",
    "#linear regression you need to import specifically \"Lasso\"\n",
    "sel_ = SelectFromModel(Lasso(alpha=0.001, random_state=10))\n",
    "sel_.fit(scaler.transform(X_train), Y_train)"
   ]
  },
  {
   "cell_type": "code",
   "execution_count": 23,
   "id": "0637638f",
   "metadata": {},
   "outputs": [
    {
     "data": {
      "text/plain": [
       "array([False, False, False, ..., False, False, False])"
      ]
     },
     "execution_count": 23,
     "metadata": {},
     "output_type": "execute_result"
    }
   ],
   "source": [
    "sel_.get_support()"
   ]
  },
  {
   "cell_type": "code",
   "execution_count": 24,
   "id": "054b99b8",
   "metadata": {},
   "outputs": [
    {
     "name": "stdout",
     "output_type": "stream",
     "text": [
      "total features: 1032\n",
      "selected features: 181\n",
      "features with coefficients shrank to zero: 851\n"
     ]
    }
   ],
   "source": [
    "# make a list with the selected features and print the outputs\n",
    "selected_feat = X.columns[(sel_.get_support())]\n",
    "print('total features: {}'.format((X_train.shape[1])))\n",
    "print('selected features: {}'.format(len(selected_feat)))\n",
    "print('features with coefficients shrank to zero: {}'.format(\n",
    "    np.sum(sel_.estimator_.coef_ == 0)))"
   ]
  },
  {
   "cell_type": "code",
   "execution_count": 25,
   "id": "d37b19b2",
   "metadata": {},
   "outputs": [
    {
     "data": {
      "text/plain": [
       "((183, 181), (46, 181))"
      ]
     },
     "execution_count": 25,
     "metadata": {},
     "output_type": "execute_result"
    }
   ],
   "source": [
    "# remove the features from the training and testing set\n",
    "\n",
    "X_train_selected = sel_.transform(scaler.transform(X_train))\n",
    "X_test_selected = sel_.transform(scaler.transform(X_test))\n",
    "\n",
    "X_train_selected.shape, X_test_selected.shape"
   ]
  },
  {
   "cell_type": "code",
   "execution_count": 26,
   "id": "dee76b28",
   "metadata": {},
   "outputs": [
    {
     "data": {
      "text/plain": [
       "((183, 1032), (46, 1032))"
      ]
     },
     "execution_count": 26,
     "metadata": {},
     "output_type": "execute_result"
    }
   ],
   "source": [
    "X_train.shape, X_test.shape"
   ]
  },
  {
   "cell_type": "code",
   "execution_count": 27,
   "id": "0df9a1e0",
   "metadata": {},
   "outputs": [
    {
     "name": "stdout",
     "output_type": "stream",
     "text": [
      "CART: 0.688889 (0.083497) (run time: 0.138682)\n",
      "SVM: 0.770468 (0.064450) (run time: 0.038769)\n",
      "NB: 0.661988 (0.112230) (run time: 0.009699)\n",
      "KNN: 0.748538 (0.066574) (run time: 0.136817)\n",
      "rf: 0.759942 (0.059830) (run time: 1.321689)\n"
     ]
    }
   ],
   "source": [
    "# Evaluation of model accuracy  using selected features \n",
    "\n",
    "num_folds = 10\n",
    "results = []\n",
    "names = []\n",
    "\n",
    "for name , model in models_list:\n",
    "    kfold = KFold(n_splits = num_folds )\n",
    "    start = time.time()\n",
    "    cv_results = cross_val_score(model , X_train_selected , Y_train , cv = kfold , scoring = 'accuracy')\n",
    "    end = time.time()\n",
    "    results.append(cv_results)\n",
    "    names.append(name)\n",
    "    print(\"%s: %f (%f) (run time: %f)\" %(name, cv_results.mean(), cv_results.std(), end-start))"
   ]
  },
  {
   "cell_type": "code",
   "execution_count": 28,
   "id": "c5717d6e",
   "metadata": {},
   "outputs": [
    {
     "name": "stdout",
     "output_type": "stream",
     "text": [
      "Best : 0.829532 using {'C': 0.5, 'kernel': 'linear'}\n",
      "0.775439 (0.120444) with: {'C': 0.1, 'kernel': 'linear'}\n",
      "0.764912 (0.065958) with: {'C': 0.1, 'kernel': 'poly'}\n",
      "0.770468 (0.064450) with: {'C': 0.1, 'kernel': 'rbf'}\n",
      "0.770468 (0.064450) with: {'C': 0.1, 'kernel': 'sigmoid'}\n",
      "0.813743 (0.078991) with: {'C': 0.3, 'kernel': 'linear'}\n",
      "0.759357 (0.062193) with: {'C': 0.3, 'kernel': 'poly'}\n",
      "0.770468 (0.064450) with: {'C': 0.3, 'kernel': 'rbf'}\n",
      "0.770468 (0.064450) with: {'C': 0.3, 'kernel': 'sigmoid'}\n",
      "0.829532 (0.100926) with: {'C': 0.5, 'kernel': 'linear'}\n",
      "0.764912 (0.055820) with: {'C': 0.5, 'kernel': 'poly'}\n",
      "0.770468 (0.064450) with: {'C': 0.5, 'kernel': 'rbf'}\n",
      "0.770468 (0.064450) with: {'C': 0.5, 'kernel': 'sigmoid'}\n",
      "0.818421 (0.096752) with: {'C': 0.7, 'kernel': 'linear'}\n",
      "0.764912 (0.055820) with: {'C': 0.7, 'kernel': 'poly'}\n",
      "0.770468 (0.064450) with: {'C': 0.7, 'kernel': 'rbf'}\n",
      "0.770468 (0.064450) with: {'C': 0.7, 'kernel': 'sigmoid'}\n",
      "0.818421 (0.096752) with: {'C': 0.9, 'kernel': 'linear'}\n",
      "0.764912 (0.055820) with: {'C': 0.9, 'kernel': 'poly'}\n",
      "0.770468 (0.064450) with: {'C': 0.9, 'kernel': 'rbf'}\n",
      "0.764912 (0.065958) with: {'C': 0.9, 'kernel': 'sigmoid'}\n",
      "0.818421 (0.096752) with: {'C': 1.0, 'kernel': 'linear'}\n",
      "0.764912 (0.055820) with: {'C': 1.0, 'kernel': 'poly'}\n",
      "0.770468 (0.064450) with: {'C': 1.0, 'kernel': 'rbf'}\n",
      "0.764912 (0.065958) with: {'C': 1.0, 'kernel': 'sigmoid'}\n",
      "0.818421 (0.096752) with: {'C': 1.3, 'kernel': 'linear'}\n",
      "0.776023 (0.045207) with: {'C': 1.3, 'kernel': 'poly'}\n",
      "0.770468 (0.064450) with: {'C': 1.3, 'kernel': 'rbf'}\n",
      "0.770468 (0.064450) with: {'C': 1.3, 'kernel': 'sigmoid'}\n",
      "0.818421 (0.096752) with: {'C': 1.5, 'kernel': 'linear'}\n",
      "0.776023 (0.045207) with: {'C': 1.5, 'kernel': 'poly'}\n",
      "0.770468 (0.064450) with: {'C': 1.5, 'kernel': 'rbf'}\n",
      "0.759357 (0.071432) with: {'C': 1.5, 'kernel': 'sigmoid'}\n",
      "0.818421 (0.096752) with: {'C': 1.7, 'kernel': 'linear'}\n",
      "0.776023 (0.045207) with: {'C': 1.7, 'kernel': 'poly'}\n",
      "0.764912 (0.065958) with: {'C': 1.7, 'kernel': 'rbf'}\n",
      "0.759357 (0.071432) with: {'C': 1.7, 'kernel': 'sigmoid'}\n",
      "0.818421 (0.096752) with: {'C': 2.0, 'kernel': 'linear'}\n",
      "0.781287 (0.043366) with: {'C': 2.0, 'kernel': 'poly'}\n",
      "0.787135 (0.079248) with: {'C': 2.0, 'kernel': 'rbf'}\n",
      "0.748246 (0.080135) with: {'C': 2.0, 'kernel': 'sigmoid'}\n"
     ]
    }
   ],
   "source": [
    "# Tuning SVM\n",
    "c_values = [0.1 , 0.3 , 0.5 , 0.7 , 0.9 , 1.0 , 1.3 , 1.5 , 1.7 , 2.0]\n",
    "kernel_values = ['linear' , 'poly' , 'rbf' , 'sigmoid']\n",
    "param_grid = dict(C = c_values , kernel = kernel_values)\n",
    "model = SVC()\n",
    "kfold = KFold(n_splits = num_folds)\n",
    "grid = GridSearchCV(estimator = model , param_grid = param_grid , scoring = 'accuracy' , cv = kfold)\n",
    "grid_result = grid.fit(X_train_selected, Y_train)\n",
    "print(\"Best : %f using %s\" % (grid_result.best_score_ , grid_result.best_params_))\n",
    "means = grid_result.cv_results_['mean_test_score']\n",
    "stds = grid_result.cv_results_['std_test_score']\n",
    "params = grid_result.cv_results_['params']\n",
    "for mean, stdev, param in zip(means, stds, params):\n",
    "    print(\"%f (%f) with: %r\" % (mean, stdev, param))"
   ]
  },
  {
   "cell_type": "code",
   "execution_count": 29,
   "id": "74d758ee",
   "metadata": {},
   "outputs": [
    {
     "name": "stdout",
     "output_type": "stream",
     "text": [
      " SVM 'c' = 2.0, kernal = 'linear' seems to be better parameter\n"
     ]
    }
   ],
   "source": [
    "print(\" SVM 'c' = 2.0, kernal = 'linear' seems to be better parameter\")"
   ]
  },
  {
   "cell_type": "code",
   "execution_count": 30,
   "id": "9b3c62b5",
   "metadata": {},
   "outputs": [
    {
     "name": "stdout",
     "output_type": "stream",
     "text": [
      "Run Time: 0.003990\n"
     ]
    }
   ],
   "source": [
    "# Fit the  model\n",
    "with warnings.catch_warnings():\n",
    "    warnings.simplefilter(\"ignore\")\n",
    "model = SVC(C=2.0, kernel='poly')\n",
    "start = time.time()\n",
    "model.fit(X_train_selected, Y_train)\n",
    "end = time.time()\n",
    "print( \"Run Time: %f\" % (end-start))"
   ]
  },
  {
   "cell_type": "code",
   "execution_count": 31,
   "id": "bcc6063c",
   "metadata": {},
   "outputs": [],
   "source": [
    "# Estimate accuracy on test dataset\n",
    "with warnings.catch_warnings():\n",
    "    warnings.simplefilter(\"ignore\")\n",
    "predictions = model.predict(X_test_selected)"
   ]
  },
  {
   "cell_type": "code",
   "execution_count": 32,
   "id": "d27638bd",
   "metadata": {},
   "outputs": [
    {
     "name": "stdout",
     "output_type": "stream",
     "text": [
      "Accuracy score 0.804348\n",
      "              precision    recall  f1-score   support\n",
      "\n",
      "           0       0.80      1.00      0.89        37\n",
      "           1       0.00      0.00      0.00         9\n",
      "\n",
      "    accuracy                           0.80        46\n",
      "   macro avg       0.40      0.50      0.45        46\n",
      "weighted avg       0.65      0.80      0.72        46\n",
      "\n"
     ]
    },
    {
     "name": "stderr",
     "output_type": "stream",
     "text": [
      "/Users/sasi/opt/anaconda3/lib/python3.9/site-packages/sklearn/metrics/_classification.py:1344: UndefinedMetricWarning: Precision and F-score are ill-defined and being set to 0.0 in labels with no predicted samples. Use `zero_division` parameter to control this behavior.\n",
      "  _warn_prf(average, modifier, msg_start, len(result))\n",
      "/Users/sasi/opt/anaconda3/lib/python3.9/site-packages/sklearn/metrics/_classification.py:1344: UndefinedMetricWarning: Precision and F-score are ill-defined and being set to 0.0 in labels with no predicted samples. Use `zero_division` parameter to control this behavior.\n",
      "  _warn_prf(average, modifier, msg_start, len(result))\n",
      "/Users/sasi/opt/anaconda3/lib/python3.9/site-packages/sklearn/metrics/_classification.py:1344: UndefinedMetricWarning: Precision and F-score are ill-defined and being set to 0.0 in labels with no predicted samples. Use `zero_division` parameter to control this behavior.\n",
      "  _warn_prf(average, modifier, msg_start, len(result))\n"
     ]
    }
   ],
   "source": [
    "print(\"Accuracy score %f\" % accuracy_score(Y_test, predictions))\n",
    "print(classification_report(Y_test, predictions))"
   ]
  },
  {
   "cell_type": "code",
   "execution_count": 33,
   "id": "ab15032c",
   "metadata": {},
   "outputs": [
    {
     "name": "stdout",
     "output_type": "stream",
     "text": [
      "[[37  0]\n",
      " [ 9  0]]\n"
     ]
    }
   ],
   "source": [
    "print(confusion_matrix(Y_test, predictions))"
   ]
  },
  {
   "cell_type": "code",
   "execution_count": 34,
   "id": "f299e237",
   "metadata": {},
   "outputs": [
    {
     "data": {
      "text/html": [
       "<div>\n",
       "<style scoped>\n",
       "    .dataframe tbody tr th:only-of-type {\n",
       "        vertical-align: middle;\n",
       "    }\n",
       "\n",
       "    .dataframe tbody tr th {\n",
       "        vertical-align: top;\n",
       "    }\n",
       "\n",
       "    .dataframe thead th {\n",
       "        text-align: right;\n",
       "    }\n",
       "</style>\n",
       "<table border=\"1\" class=\"dataframe\">\n",
       "  <thead>\n",
       "    <tr style=\"text-align: right;\">\n",
       "      <th></th>\n",
       "      <th>Actual</th>\n",
       "      <th>Predictions</th>\n",
       "    </tr>\n",
       "    <tr>\n",
       "      <th>Patient_ID</th>\n",
       "      <th></th>\n",
       "      <th></th>\n",
       "    </tr>\n",
       "  </thead>\n",
       "  <tbody>\n",
       "    <tr>\n",
       "      <th>Breast_MRI_687</th>\n",
       "      <td>0</td>\n",
       "      <td>0</td>\n",
       "    </tr>\n",
       "    <tr>\n",
       "      <th>Breast_MRI_539</th>\n",
       "      <td>1</td>\n",
       "      <td>0</td>\n",
       "    </tr>\n",
       "    <tr>\n",
       "      <th>Breast_MRI_884</th>\n",
       "      <td>0</td>\n",
       "      <td>0</td>\n",
       "    </tr>\n",
       "    <tr>\n",
       "      <th>Breast_MRI_672</th>\n",
       "      <td>0</td>\n",
       "      <td>0</td>\n",
       "    </tr>\n",
       "    <tr>\n",
       "      <th>Breast_MRI_751</th>\n",
       "      <td>0</td>\n",
       "      <td>0</td>\n",
       "    </tr>\n",
       "    <tr>\n",
       "      <th>Breast_MRI_397</th>\n",
       "      <td>0</td>\n",
       "      <td>0</td>\n",
       "    </tr>\n",
       "    <tr>\n",
       "      <th>Breast_MRI_757</th>\n",
       "      <td>0</td>\n",
       "      <td>0</td>\n",
       "    </tr>\n",
       "    <tr>\n",
       "      <th>Breast_MRI_517</th>\n",
       "      <td>0</td>\n",
       "      <td>0</td>\n",
       "    </tr>\n",
       "    <tr>\n",
       "      <th>Breast_MRI_857</th>\n",
       "      <td>0</td>\n",
       "      <td>0</td>\n",
       "    </tr>\n",
       "    <tr>\n",
       "      <th>Breast_MRI_694</th>\n",
       "      <td>0</td>\n",
       "      <td>0</td>\n",
       "    </tr>\n",
       "  </tbody>\n",
       "</table>\n",
       "</div>"
      ],
      "text/plain": [
       "                Actual  Predictions\n",
       "Patient_ID                         \n",
       "Breast_MRI_687       0            0\n",
       "Breast_MRI_539       1            0\n",
       "Breast_MRI_884       0            0\n",
       "Breast_MRI_672       0            0\n",
       "Breast_MRI_751       0            0\n",
       "Breast_MRI_397       0            0\n",
       "Breast_MRI_757       0            0\n",
       "Breast_MRI_517       0            0\n",
       "Breast_MRI_857       0            0\n",
       "Breast_MRI_694       0            0"
      ]
     },
     "execution_count": 34,
     "metadata": {},
     "output_type": "execute_result"
    }
   ],
   "source": [
    "Act_vs_pred = pd.DataFrame({\"Actual\": Y_test, \"Predictions\": model.predict(X_test_selected)})\n",
    "Act_vs_pred.head(10)"
   ]
  },
  {
   "cell_type": "markdown",
   "id": "27946a12",
   "metadata": {},
   "source": [
    "**END**"
   ]
  }
 ],
 "metadata": {
  "kernelspec": {
   "display_name": "Python 3 (ipykernel)",
   "language": "python",
   "name": "python3"
  },
  "language_info": {
   "codemirror_mode": {
    "name": "ipython",
    "version": 3
   },
   "file_extension": ".py",
   "mimetype": "text/x-python",
   "name": "python",
   "nbconvert_exporter": "python",
   "pygments_lexer": "ipython3",
   "version": "3.9.12"
  }
 },
 "nbformat": 4,
 "nbformat_minor": 5
}
