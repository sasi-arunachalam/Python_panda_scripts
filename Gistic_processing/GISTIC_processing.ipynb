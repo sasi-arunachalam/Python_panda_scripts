{
 "cells": [
  {
   "cell_type": "code",
   "execution_count": 1,
   "metadata": {},
   "outputs": [],
   "source": [
    "import os\n",
    "import numpy as np\n",
    "import pandas as pd\n",
    "import re"
   ]
  },
  {
   "cell_type": "code",
   "execution_count": 2,
   "metadata": {},
   "outputs": [],
   "source": [
    "#samplelist\n",
    "samplelist=[\"Patient1\",\"Patient2\",\"Patient3\"]\n",
    "files=[\"amp\",\"del\"]\n",
    "Peaks=[\"Amplification Peak\",\"Deletion Peak\"]"
   ]
  },
  {
   "cell_type": "code",
   "execution_count": 3,
   "metadata": {},
   "outputs": [],
   "source": [
    "os.chdir(\"/Users/sarunach/Desktop/Gistic/\")"
   ]
  },
  {
   "cell_type": "markdown",
   "metadata": {},
   "source": [
    "**Driver cancer genes**"
   ]
  },
  {
   "cell_type": "code",
   "execution_count": 4,
   "metadata": {},
   "outputs": [],
   "source": [
    "#Step1 : read the driver genes specific for the tumor typr\n",
    "df1=pd.read_excel(\"drivers.xlsx\",index_col=None)"
   ]
  },
  {
   "cell_type": "markdown",
   "metadata": {},
   "source": [
    "**Gistic results**"
   ]
  },
  {
   "cell_type": "code",
   "execution_count": 5,
   "metadata": {},
   "outputs": [
    {
     "name": "stdout",
     "output_type": "stream",
     "text": [
      "amp Amplification Peak\n",
      "True\n",
      "del Deletion Peak\n",
      "True\n",
      "amp Amplification Peak\n",
      "True\n",
      "del Deletion Peak\n",
      "True\n",
      "amp Amplification Peak\n",
      "True\n",
      "del Deletion Peak\n",
      "True\n"
     ]
    }
   ],
   "source": [
    "#Step2 : read lesions file, amp file, del file. Add cancer driver genes to  amp and del file into excel .\n",
    "for sample in samplelist:    \n",
    "    for file,Peak in zip(files,Peaks):  \n",
    "        print(file,Peak)\n",
    "        BASE_DIR=\"/Users/sarunach/Desktop/Gistic/gistic_input/\"# first mount cluster  on local computer to work directly with cluster\n",
    "        os.chdir(BASE_DIR+sample+\"_results\")\n",
    "        df2=pd.read_csv(file+\"_genes.conf_75.txt\", header=[0,3],delimiter=\"\\t\")## skip rows 2,3,4\n",
    "        df2=df2.drop(df2.columns[0],axis=1) #drop first column\n",
    "        df2.columns = df2.columns.map('_'.join) # join the headers\n",
    "        df2 = df2.loc[:, ~df2.columns.str.contains('^Unnamed')] # remove any unnamed columns\n",
    "        colnum = len(df2.columns)\n",
    "        #removing the square brackets around genes\n",
    "        for col in df2.columns:\n",
    "            df2[col] = df2[col].str.replace('[','').str.replace(']','') # replace any [] in dataframe\n",
    "        #reading all lesions file\n",
    "        band=pd.read_csv(\"all_lesions.conf_75.txt\",delimiter=\"\\t\",skipinitialspace=True)\n",
    "        band=band.filter(regex=\"Unique|Descriptor|Wide|Sample\") # chosing columns of interest\n",
    "        band['Descriptor'] = band['Descriptor'].str.strip()\n",
    "        band['Wide Peak Limits'] = band['Wide Peak Limits'].str.strip()\n",
    "        band[\"id\"]=band[\"Descriptor\"]+ \"_\"+ band[\"Wide Peak Limits\"] # joining two columns and creating new one\n",
    "        band[\"id\"]=band.id.str.split(\"(\").apply(lambda x: x[0]) # spliting column on \"(\" and keeping only first part\n",
    "        band=band[(band[\"Unique Name\"].str.contains(Peak) == True) & (band[\"Unique Name\"].str.contains(\"values\") == False)]\n",
    "        rowlen=len(band)\n",
    "        print(colnum==rowlen)\n",
    "    \n",
    "        collist=df2.columns\n",
    "        if colnum==rowlen:\n",
    "            df4 = pd.DataFrame()\n",
    "            for col in collist:\n",
    "                df3=df2[df2[col].isin(df1.Gene)] # finding driver genes\n",
    "                df3=df3.filter([col])\n",
    "                df4=df4.append(df3, ignore_index=True,sort=False)\n",
    "        df5=df4.T #transpose the dataframe for merging \n",
    "        df5.index.name='id' # name the index\n",
    "        df5 = df5.reset_index(drop=False) # resetting the column names \n",
    "        df5[\"Cancer_driver_gene\"]=df5[df5.columns[1:]].apply( lambda x: \",\".join(x.dropna().astype(str)),axis=1)\n",
    "        df5=df5.filter([\"id\",\"Cancer_driver_gene\"])\n",
    "        final=pd.merge(band,df5, on=\"id\")\n",
    "        os.chdir(\"/Users/sarunach/Desktop/Gistic/gistic_output/\")\n",
    "        if not os.path.exists(sample+\"_Processed_Output\"):\n",
    "            os.mkdir(sample+\"_Processed_Output\")\n",
    "        os.chdir(\"/Users/sarunach/Desktop/Gistic/gistic_output/\" + sample+\"_Processed_Output\")\n",
    "        final.to_excel(sample+\"_\"+file+\"_focal_driver_combined.xlsx\" , index=None)"
   ]
  },
  {
   "cell_type": "code",
   "execution_count": 6,
   "metadata": {},
   "outputs": [],
   "source": [
    "#Step3: combine amp and del file into excel \n",
    "def combine_excel():\n",
    "    os.chdir(\"/Users/sarunach/Desktop/Gistic/gistic_output/\" + sample+\"_Processed_Output\")\n",
    "    keyword=\"combined\"\n",
    "    all_file=pd.DataFrame()\n",
    "    for filename in os.listdir(): \n",
    "        if keyword in filename:\n",
    "            df = pd.read_excel(filename)\n",
    "            all_file=all_file.append(df)\n",
    "    all_file.to_excel(sample+\"_\"+\"amp_del\"+\"_focal_driver_combined.xlsx\" , index=None)"
   ]
  },
  {
   "cell_type": "code",
   "execution_count": 7,
   "metadata": {},
   "outputs": [],
   "source": [
    "for sample in samplelist:\n",
    "    combine_excel()"
   ]
  },
  {
   "cell_type": "markdown",
   "metadata": {},
   "source": [
    "**##END##**"
   ]
  },
  {
   "cell_type": "code",
   "execution_count": null,
   "metadata": {},
   "outputs": [],
   "source": []
  }
 ],
 "metadata": {
  "kernelspec": {
   "display_name": "Python 3",
   "language": "python",
   "name": "python3"
  },
  "language_info": {
   "codemirror_mode": {
    "name": "ipython",
    "version": 3
   },
   "file_extension": ".py",
   "mimetype": "text/x-python",
   "name": "python",
   "nbconvert_exporter": "python",
   "pygments_lexer": "ipython3",
   "version": "3.8.5"
  }
 },
 "nbformat": 4,
 "nbformat_minor": 2
}
