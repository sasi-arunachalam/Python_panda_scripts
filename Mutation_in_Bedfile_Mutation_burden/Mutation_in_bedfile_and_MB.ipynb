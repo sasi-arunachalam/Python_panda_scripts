{
 "cells": [
  {
   "cell_type": "code",
   "execution_count": null,
   "metadata": {},
   "outputs": [],
   "source": [
    "import pandas as pd\n",
    "pd.set_option(\"display.max_columns\",45)"
   ]
  },
  {
   "cell_type": "markdown",
   "metadata": {},
   "source": [
    "**Read all input files using glob**"
   ]
  },
  {
   "cell_type": "code",
   "execution_count": null,
   "metadata": {},
   "outputs": [],
   "source": [
    "import glob\n",
    "#mylist = [f for f in glob.glob(\"*.txt\")] ##this is list comprehension\n",
    "txtfiles = []\n",
    "for file in glob.glob(\"*.txt\"):\n",
    "    txtfiles.append(file)\n",
    "##Remove everything after a _ in a string\n",
    "    \n",
    "#df['text_new'] = df['text'].str.split('::').str[0] dataframe solution\n",
    "samples = [x.split('_')[0] for x in txtfiles] # this creates list of sample names "
   ]
  },
  {
   "cell_type": "markdown",
   "metadata": {},
   "source": [
    "**Check mutation in bedfile and write out  an excel output**"
   ]
  },
  {
   "cell_type": "code",
   "execution_count": null,
   "metadata": {},
   "outputs": [],
   "source": [
    "for file in txtfiles:\n",
    "    mut=pd.read_csv(file, sep=\"\\t\")\n",
    "    mut[\"mutation_id\"]= mut[\"GENENAME\"]+ \":\"+ mut[\"Index\"]\n",
    "    mut=mut.filter(regex=\"mutation_id|CLASS|AACHANGE|CALL\")\n",
    "    mut[\"SNV\"]=mut.mutation_id.str.split(\":\").apply(lambda x :x[1])\n",
    "    mut[\"Chromosome\"]=mut.SNV.str.split(\".\").apply(lambda x :x[0])\n",
    "    mut[\"position\"]=mut.SNV.str.split(\".\").apply(lambda x :x[1])\n",
    "    mut[\"Chromosome\"]=mut.Chromosome.str.replace(\"chr\",\"\")\n",
    "    mut['position'] = mut['position'].astype(float)\n",
    "    cnv=pd.read_csv(\"bedfile.bed\",sep=\"\\t\",header=None,\n",
    "               names=[\"Chromosome\",\"Start\",\"End\"])\n",
    "    cnv[\"copy\"]=\"yes\"\n",
    "    cnv_mut=mut.merge(cnv,on=\"Chromosome\", how=\"outer\")\n",
    "    cnv_mut['position'] = cnv_mut['position'].astype(float)\n",
    "    cnv_mut=cnv_mut[cnv_mut[\"position\"].between(cnv_mut.pop(\"Start\"),cnv_mut.pop(\"End\"))]\n",
    "    cnv_mut_select=cnv_mut[[\"Chromosome\",\"position\",\"copy\"]]\n",
    "    final=mut.merge(cnv_mut_select,how=\"left\")\n",
    "    final.to_excel(file.split('_')[0]+\"_output_mutation_in_bedfile.xlsx\", sheet_name='bedfile_mut', index=False)\n",
    "    "
   ]
  },
  {
   "cell_type": "markdown",
   "metadata": {},
   "source": [
    "**Mutation burden statistics**"
   ]
  },
  {
   "cell_type": "code",
   "execution_count": null,
   "metadata": {},
   "outputs": [],
   "source": [
    "import glob\n",
    "#mylist = [f for f in glob.glob(\"*.txt\")] ##this is list comprehension\n",
    "txtfiles = []\n",
    "for file in glob.glob(\"*.xlsx\"):\n",
    "    txtfiles.append(file)\n",
    "##Remove everything after a _ in a string\n",
    "    \n",
    "#df['text_new'] = df['text'].str.split('::').str[0] dataframe solution\n",
    "samples = [x.split('_')[0] for x in txtfiles] # this creates list of sample names "
   ]
  },
  {
   "cell_type": "code",
   "execution_count": null,
   "metadata": {},
   "outputs": [],
   "source": [
    "Patient=[]\n",
    "Total_mut=[]\n",
    "Mut_in_bedfile=[]\n",
    "Mut_not_in_bedfile=[]\n",
    "Non_UTR_Total_mut=[]\n",
    "Non_UTR_Total_mut_in_bedfile=[]\n",
    "for file in txtfiles:\n",
    "    df=pd.read_excel(file, index_col=None)\n",
    "    t=file.split('_')[0]\n",
    "    Patient.append(t)\n",
    "    df1=df.filter(regex=\"copy|CLASS\")\n",
    "    l1=len(df1)\n",
    "    Total_mut.append(l1)\n",
    "    df2=df1[(df1[\"copy\"] ==\"yes\")]\n",
    "    l2=len(df2)\n",
    "    Mut_in_bedfile.append(l2)\n",
    "    l3=l1-l2\n",
    "    Mut_not_in_bedfile.append(l3)\n",
    "    df3=df1[~df1['CLASS'].str.contains(\"UTR\")]\n",
    "    l4=len(df3)\n",
    "    Non_UTR_Total_mut.append(l4)\n",
    "    df4=df3[(df3[\"copy\"] ==\"yes\")]\n",
    "    l5=len(df4)\n",
    "    Non_UTR_Total_mut_in_bedfile.append(l5)"
   ]
  },
  {
   "cell_type": "markdown",
   "metadata": {},
   "source": [
    "**Combine all list as list of lists**"
   ]
  },
  {
   "cell_type": "code",
   "execution_count": null,
   "metadata": {},
   "outputs": [],
   "source": [
    "newlist=[Patient,Total_mut,Mut_in_bedfile,Mut_not_in_bedfile,Non_UTR_Total_mut,Non_UTR_Total_mut_in_bedfile]"
   ]
  },
  {
   "cell_type": "code",
   "execution_count": null,
   "metadata": {},
   "outputs": [],
   "source": [
    "newlist"
   ]
  },
  {
   "cell_type": "markdown",
   "metadata": {},
   "source": [
    "**Create index**"
   ]
  },
  {
   "cell_type": "code",
   "execution_count": null,
   "metadata": {},
   "outputs": [],
   "source": [
    "index=[\"Patient\",\"Total_mut\",\"Mut_in_bedfile\",\"Mut_not_in_bedfile\",\"Non_UTR_Total_mut\",\"Non_UTR_Total_mut_in_bedfile\"]"
   ]
  },
  {
   "cell_type": "markdown",
   "metadata": {},
   "source": [
    "**Convert list of list as dataframe with index**"
   ]
  },
  {
   "cell_type": "code",
   "execution_count": null,
   "metadata": {},
   "outputs": [],
   "source": [
    "df = pd.DataFrame(newlist,index)"
   ]
  },
  {
   "cell_type": "code",
   "execution_count": null,
   "metadata": {},
   "outputs": [],
   "source": [
    "df.head()"
   ]
  },
  {
   "cell_type": "markdown",
   "metadata": {},
   "source": [
    "**Write out statistics in excel sheet with index and no header, since sample id is column name**"
   ]
  },
  {
   "cell_type": "code",
   "execution_count": null,
   "metadata": {},
   "outputs": [],
   "source": [
    "writer = pd.ExcelWriter('Bedfile_mutation_statistics.xlsx', engine='xlsxwriter')\n",
    "df.to_excel(writer, sheet_name='val', index=True, columns=None)\n",
    "writer.save()"
   ]
  },
  {
   "cell_type": "markdown",
   "metadata": {},
   "source": [
    "**END**"
   ]
  }
 ],
 "metadata": {
  "kernelspec": {
   "display_name": "Python 3",
   "language": "python",
   "name": "python3"
  },
  "language_info": {
   "codemirror_mode": {
    "name": "ipython",
    "version": 3
   },
   "file_extension": ".py",
   "mimetype": "text/x-python",
   "name": "python",
   "nbconvert_exporter": "python",
   "pygments_lexer": "ipython3",
   "version": "3.8.5"
  }
 },
 "nbformat": 4,
 "nbformat_minor": 4
}
