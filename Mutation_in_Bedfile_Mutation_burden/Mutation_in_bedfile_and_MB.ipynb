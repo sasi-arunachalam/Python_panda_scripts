{
 "cells": [
  {
   "cell_type": "code",
   "execution_count": 1,
   "metadata": {},
   "outputs": [],
   "source": [
    "import pandas as pd\n",
    "pd.set_option(\"display.max_columns\",45)"
   ]
  },
  {
   "cell_type": "markdown",
   "metadata": {},
   "source": [
    "**Read all input files using glob**"
   ]
  },
  {
   "cell_type": "code",
   "execution_count": 2,
   "metadata": {},
   "outputs": [],
   "source": [
    "import glob\n",
    "#mylist = [f for f in glob.glob(\"*.txt\")] ##this is list comprehension\n",
    "txtfiles = []\n",
    "for file in glob.glob(\"*.txt\"):\n",
    "    txtfiles.append(file)\n",
    "##Remove everything after a _ in a string\n",
    "    \n",
    "#df['text_new'] = df['text'].str.split('::').str[0] dataframe solution\n",
    "samples = [x.split('_')[0] for x in txtfiles] # this creates list of sample names "
   ]
  },
  {
   "cell_type": "markdown",
   "metadata": {},
   "source": [
    "**Check mutation in bedfile and write out  an excel output**"
   ]
  },
  {
   "cell_type": "code",
   "execution_count": 3,
   "metadata": {},
   "outputs": [],
   "source": [
    "for file in txtfiles:\n",
    "    mut=pd.read_csv(file, sep=\"\\t\")\n",
    "    mut[\"mutation_id\"]= mut[\"GENENAME\"]+ \":\"+ mut[\"Index\"]\n",
    "    mut=mut.filter(regex=\"mutation_id|CLASS|AACHANGE|CALL\")\n",
    "    mut[\"SNV\"]=mut.mutation_id.str.split(\":\").apply(lambda x :x[1])\n",
    "    mut[\"Chromosome\"]=mut.SNV.str.split(\".\").apply(lambda x :x[0])\n",
    "    mut[\"position\"]=mut.SNV.str.split(\".\").apply(lambda x :x[1])\n",
    "    mut[\"Chromosome\"]=mut.Chromosome.str.replace(\"chr\",\"\")\n",
    "    mut['position'] = mut['position'].astype(float)\n",
    "    cnv=pd.read_csv(\"bedfile.bed\",sep=\"\\t\",header=None,\n",
    "               names=[\"Chromosome\",\"Start\",\"End\"])\n",
    "    cnv[\"copy\"]=\"yes\"\n",
    "    cnv_mut=mut.merge(cnv,on=\"Chromosome\", how=\"outer\")\n",
    "    cnv_mut['position'] = cnv_mut['position'].astype(float)\n",
    "    cnv_mut=cnv_mut[cnv_mut[\"position\"].between(cnv_mut.pop(\"Start\"),cnv_mut.pop(\"End\"))]\n",
    "    cnv_mut_select=cnv_mut[[\"Chromosome\",\"position\",\"copy\"]]\n",
    "    final=mut.merge(cnv_mut_select,how=\"left\")\n",
    "    final.to_excel(file.split('_')[0]+\"_output_mutation_in_bedfile.xlsx\", sheet_name='bedfile_mut', index=False)\n",
    "    "
   ]
  },
  {
   "cell_type": "markdown",
   "metadata": {},
   "source": [
    "**Mutation burden statistics**"
   ]
  },
  {
   "cell_type": "code",
   "execution_count": 4,
   "metadata": {},
   "outputs": [],
   "source": [
    "import glob\n",
    "#mylist = [f for f in glob.glob(\"*.txt\")] ##this is list comprehension\n",
    "txtfiles = []\n",
    "for file in glob.glob(\"*.xlsx\"):\n",
    "    txtfiles.append(file)\n",
    "##Remove everything after a _ in a string\n",
    "    \n",
    "#df['text_new'] = df['text'].str.split('::').str[0] dataframe solution\n",
    "samples = [x.split('_')[0] for x in txtfiles] # this creates list of sample names "
   ]
  },
  {
   "cell_type": "code",
   "execution_count": 5,
   "metadata": {},
   "outputs": [],
   "source": [
    "Patient=[]\n",
    "Total_mut=[]\n",
    "Mut_in_bedfile=[]\n",
    "Mut_not_in_bedfile=[]\n",
    "Non_UTR_Total_mut=[]\n",
    "Non_UTR_Total_mut_in_bedfile=[]\n",
    "for file in txtfiles:\n",
    "    df=pd.read_excel(file, index_col=None)\n",
    "    t=file.split('_')[0]\n",
    "    Patient.append(t)\n",
    "    df1=df.filter(regex=\"copy|CLASS\")\n",
    "    l1=len(df1)\n",
    "    Total_mut.append(l1)\n",
    "    df2=df1[(df1[\"copy\"] ==\"yes\")]\n",
    "    l2=len(df2)\n",
    "    Mut_in_bedfile.append(l2)\n",
    "    l3=l1-l2\n",
    "    Mut_not_in_bedfile.append(l3)\n",
    "    df3=df1[~df1['CLASS'].str.contains(\"UTR\")]\n",
    "    l4=len(df3)\n",
    "    Non_UTR_Total_mut.append(l4)\n",
    "    df4=df3[(df3[\"copy\"] ==\"yes\")]\n",
    "    l5=len(df4)\n",
    "    Non_UTR_Total_mut_in_bedfile.append(l5)"
   ]
  },
  {
   "cell_type": "markdown",
   "metadata": {},
   "source": [
    "**Combine all list as list of lists**"
   ]
  },
  {
   "cell_type": "code",
   "execution_count": 6,
   "metadata": {},
   "outputs": [],
   "source": [
    "newlist=[Patient,Total_mut,Mut_in_bedfile,Mut_not_in_bedfile,Non_UTR_Total_mut,Non_UTR_Total_mut_in_bedfile]"
   ]
  },
  {
   "cell_type": "code",
   "execution_count": 7,
   "metadata": {},
   "outputs": [
    {
     "data": {
      "text/plain": [
       "[['Sample4', 'Sample1', 'Sample2', 'Sample3'],\n",
       " [113, 132, 130, 304],\n",
       " [107, 126, 124, 292],\n",
       " [6, 6, 6, 12],\n",
       " [87, 96, 86, 193],\n",
       " [81, 90, 81, 182]]"
      ]
     },
     "execution_count": 7,
     "metadata": {},
     "output_type": "execute_result"
    }
   ],
   "source": [
    "newlist"
   ]
  },
  {
   "cell_type": "markdown",
   "metadata": {},
   "source": [
    "**Create index**"
   ]
  },
  {
   "cell_type": "code",
   "execution_count": 8,
   "metadata": {},
   "outputs": [],
   "source": [
    "index=[\"Patient\",\"Total_mut\",\"Mut_in_bedfile\",\"Mut_not_in_bedfile\",\"Non_UTR_Total_mut\",\"Non_UTR_Total_mut_in_bedfile\"]"
   ]
  },
  {
   "cell_type": "markdown",
   "metadata": {},
   "source": [
    "**Convert list of list as dataframe with index**"
   ]
  },
  {
   "cell_type": "code",
   "execution_count": 9,
   "metadata": {},
   "outputs": [],
   "source": [
    "df = pd.DataFrame(newlist,index)"
   ]
  },
  {
   "cell_type": "code",
   "execution_count": 10,
   "metadata": {},
   "outputs": [
    {
     "data": {
      "text/html": [
       "<div>\n",
       "<style scoped>\n",
       "    .dataframe tbody tr th:only-of-type {\n",
       "        vertical-align: middle;\n",
       "    }\n",
       "\n",
       "    .dataframe tbody tr th {\n",
       "        vertical-align: top;\n",
       "    }\n",
       "\n",
       "    .dataframe thead th {\n",
       "        text-align: right;\n",
       "    }\n",
       "</style>\n",
       "<table border=\"1\" class=\"dataframe\">\n",
       "  <thead>\n",
       "    <tr style=\"text-align: right;\">\n",
       "      <th></th>\n",
       "      <th>0</th>\n",
       "      <th>1</th>\n",
       "      <th>2</th>\n",
       "      <th>3</th>\n",
       "    </tr>\n",
       "  </thead>\n",
       "  <tbody>\n",
       "    <tr>\n",
       "      <th>Patient</th>\n",
       "      <td>Sample4</td>\n",
       "      <td>Sample1</td>\n",
       "      <td>Sample2</td>\n",
       "      <td>Sample3</td>\n",
       "    </tr>\n",
       "    <tr>\n",
       "      <th>Total_mut</th>\n",
       "      <td>113</td>\n",
       "      <td>132</td>\n",
       "      <td>130</td>\n",
       "      <td>304</td>\n",
       "    </tr>\n",
       "    <tr>\n",
       "      <th>Mut_in_bedfile</th>\n",
       "      <td>107</td>\n",
       "      <td>126</td>\n",
       "      <td>124</td>\n",
       "      <td>292</td>\n",
       "    </tr>\n",
       "    <tr>\n",
       "      <th>Mut_not_in_bedfile</th>\n",
       "      <td>6</td>\n",
       "      <td>6</td>\n",
       "      <td>6</td>\n",
       "      <td>12</td>\n",
       "    </tr>\n",
       "    <tr>\n",
       "      <th>Non_UTR_Total_mut</th>\n",
       "      <td>87</td>\n",
       "      <td>96</td>\n",
       "      <td>86</td>\n",
       "      <td>193</td>\n",
       "    </tr>\n",
       "  </tbody>\n",
       "</table>\n",
       "</div>"
      ],
      "text/plain": [
       "                          0        1        2        3\n",
       "Patient             Sample4  Sample1  Sample2  Sample3\n",
       "Total_mut               113      132      130      304\n",
       "Mut_in_bedfile          107      126      124      292\n",
       "Mut_not_in_bedfile        6        6        6       12\n",
       "Non_UTR_Total_mut        87       96       86      193"
      ]
     },
     "execution_count": 10,
     "metadata": {},
     "output_type": "execute_result"
    }
   ],
   "source": [
    "df.head()"
   ]
  },
  {
   "cell_type": "markdown",
   "metadata": {},
   "source": [
    "**Write out statistics in excel sheet with index and no header, since sample id is column name**"
   ]
  },
  {
   "cell_type": "code",
   "execution_count": 11,
   "metadata": {},
   "outputs": [],
   "source": [
    "writer = pd.ExcelWriter('Bedfile_mutation_statistics.xlsx', engine='xlsxwriter')\n",
    "df.to_excel(writer, sheet_name='val', index=True, columns=None)\n",
    "writer.save()"
   ]
  },
  {
   "cell_type": "markdown",
   "metadata": {},
   "source": [
    "**END**"
   ]
  }
 ],
 "metadata": {
  "kernelspec": {
   "display_name": "Python 3",
   "language": "python",
   "name": "python3"
  },
  "language_info": {
   "codemirror_mode": {
    "name": "ipython",
    "version": 3
   },
   "file_extension": ".py",
   "mimetype": "text/x-python",
   "name": "python",
   "nbconvert_exporter": "python",
   "pygments_lexer": "ipython3",
   "version": "3.8.5"
  }
 },
 "nbformat": 4,
 "nbformat_minor": 4
}
