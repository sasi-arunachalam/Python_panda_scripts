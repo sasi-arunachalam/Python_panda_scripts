{
 "cells": [
  {
   "cell_type": "code",
   "execution_count": 1,
   "metadata": {},
   "outputs": [],
   "source": [
    "import os\n",
    "import numpy as np\n",
    "import seaborn as sns\n",
    "import pandas as pd\n",
    "import matplotlib.pyplot as plt\n",
    "import numpy as np\n",
    "pd.set_option(\"display.max_columns\",40)"
   ]
  },
  {
   "cell_type": "markdown",
   "metadata": {},
   "source": [
    "**Step1: Read the pyclone output loci.txt for heatmap**"
   ]
  },
  {
   "cell_type": "code",
   "execution_count": 2,
   "metadata": {},
   "outputs": [],
   "source": [
    "filename=\"Pyclone_output\""
   ]
  },
  {
   "cell_type": "code",
   "execution_count": 3,
   "metadata": {},
   "outputs": [],
   "source": [
    "a=pd.read_csv(\"loci.tsv\",delimiter=\"\\t\")\n",
    "a=pd.pivot_table(a,index=[\"mutation_id\",\"cluster_id\"],columns='sample_id', values='cellular_prevalence')\n",
    "a=a.sort_values(['cluster_id'], ascending=[True])  "
   ]
  },
  {
   "cell_type": "markdown",
   "metadata": {},
   "source": [
    "**Step2: create a output directory**"
   ]
  },
  {
   "cell_type": "code",
   "execution_count": 4,
   "metadata": {},
   "outputs": [
    {
     "name": "stdout",
     "output_type": "stream",
     "text": [
      "Directory  Pyclone_output  Created \n"
     ]
    }
   ],
   "source": [
    "if not os.path.exists(filename):\n",
    "    os.mkdir(filename)\n",
    "    print(\"Directory \" , filename ,  \" Created \")\n",
    "else:    \n",
    "    print(\"Directory \" , filename ,  \" already exists\") "
   ]
  },
  {
   "cell_type": "markdown",
   "metadata": {},
   "source": [
    "**Step3: store  output in created directory**"
   ]
  },
  {
   "cell_type": "code",
   "execution_count": 6,
   "metadata": {},
   "outputs": [
    {
     "name": "stdout",
     "output_type": "stream",
     "text": [
      "Excelsheet for  Pyclone_output  is Created \n"
     ]
    }
   ],
   "source": [
    "#change to outputdirectory and write file \n",
    "os.chdir(\"/Users/sarunach/Desktop/Python_panda_scripts/Visualizing_Pyclone_Output/Pyclone_output\")\n",
    "if not os.path.isfile(\"Heatmap_CP.xlsx\"):\n",
    "    a.to_excel(\"Pyclone_CP.xlsx\")\n",
    "    print(\"Excelsheet for \" , filename ,  \" is Created \")\n",
    "else:    \n",
    "    print(\"Excelsheet for \" , filename ,  \" already exists\")"
   ]
  },
  {
   "cell_type": "markdown",
   "metadata": {},
   "source": [
    "**Step4:Go to output and Read the same excel sheet**"
   ]
  },
  {
   "cell_type": "code",
   "execution_count": 7,
   "metadata": {},
   "outputs": [
    {
     "data": {
      "text/html": [
       "<div>\n",
       "<style scoped>\n",
       "    .dataframe tbody tr th:only-of-type {\n",
       "        vertical-align: middle;\n",
       "    }\n",
       "\n",
       "    .dataframe tbody tr th {\n",
       "        vertical-align: top;\n",
       "    }\n",
       "\n",
       "    .dataframe thead th {\n",
       "        text-align: right;\n",
       "    }\n",
       "</style>\n",
       "<table border=\"1\" class=\"dataframe\">\n",
       "  <thead>\n",
       "    <tr style=\"text-align: right;\">\n",
       "      <th></th>\n",
       "      <th>mutation_id</th>\n",
       "      <th>cluster_id</th>\n",
       "      <th>Sample_1</th>\n",
       "      <th>Sample_2</th>\n",
       "      <th>Sample_3</th>\n",
       "    </tr>\n",
       "  </thead>\n",
       "  <tbody>\n",
       "    <tr>\n",
       "      <th>0</th>\n",
       "      <td>XPNPEP2:chrX.128888451.C.T</td>\n",
       "      <td>1</td>\n",
       "      <td>0.486760</td>\n",
       "      <td>0.011121</td>\n",
       "      <td>0.008932</td>\n",
       "    </tr>\n",
       "    <tr>\n",
       "      <th>1</th>\n",
       "      <td>TPH2:chr12.72425820.G.T</td>\n",
       "      <td>1</td>\n",
       "      <td>0.452527</td>\n",
       "      <td>0.011258</td>\n",
       "      <td>0.008639</td>\n",
       "    </tr>\n",
       "    <tr>\n",
       "      <th>2</th>\n",
       "      <td>TNS4:chr17.38643384.C.T</td>\n",
       "      <td>1</td>\n",
       "      <td>0.486686</td>\n",
       "      <td>0.011205</td>\n",
       "      <td>0.008994</td>\n",
       "    </tr>\n",
       "    <tr>\n",
       "      <th>3</th>\n",
       "      <td>RYR2:chr1.237947620.C.T</td>\n",
       "      <td>1</td>\n",
       "      <td>0.485696</td>\n",
       "      <td>0.011254</td>\n",
       "      <td>0.009029</td>\n",
       "    </tr>\n",
       "    <tr>\n",
       "      <th>4</th>\n",
       "      <td>PPP2R2C:chr4.6349736.G.T</td>\n",
       "      <td>1</td>\n",
       "      <td>0.486606</td>\n",
       "      <td>0.011104</td>\n",
       "      <td>0.008938</td>\n",
       "    </tr>\n",
       "  </tbody>\n",
       "</table>\n",
       "</div>"
      ],
      "text/plain": [
       "                  mutation_id  cluster_id  Sample_1  Sample_2  Sample_3\n",
       "0  XPNPEP2:chrX.128888451.C.T           1  0.486760  0.011121  0.008932\n",
       "1     TPH2:chr12.72425820.G.T           1  0.452527  0.011258  0.008639\n",
       "2     TNS4:chr17.38643384.C.T           1  0.486686  0.011205  0.008994\n",
       "3     RYR2:chr1.237947620.C.T           1  0.485696  0.011254  0.009029\n",
       "4    PPP2R2C:chr4.6349736.G.T           1  0.486606  0.011104  0.008938"
      ]
     },
     "execution_count": 7,
     "metadata": {},
     "output_type": "execute_result"
    }
   ],
   "source": [
    "df=pd.read_excel(\"Pyclone_CP.xlsx\", index_col=None)\n",
    "#plot=df\n",
    "#plot.drop(plot.columns[0:2], axis = 1, inplace=True) \n",
    "#plt.figure(figsize=(4, 6))\n",
    "#sns.heatmap(plot, cmap=\"Blues\",yticklabels=False) \n",
    "df.head()"
   ]
  },
  {
   "cell_type": "code",
   "execution_count": 8,
   "metadata": {},
   "outputs": [],
   "source": [
    "df.columns = df.columns.str.replace(filename+\"_\",\"\")# replace  and rename the columns \n",
    "df= df.add_suffix('-CP')# add CP to all column heades\n",
    "df.columns = df.columns.str.replace(\"_id-CP\",\"_id\")"
   ]
  },
  {
   "cell_type": "code",
   "execution_count": 9,
   "metadata": {},
   "outputs": [
    {
     "data": {
      "text/html": [
       "<div>\n",
       "<style scoped>\n",
       "    .dataframe tbody tr th:only-of-type {\n",
       "        vertical-align: middle;\n",
       "    }\n",
       "\n",
       "    .dataframe tbody tr th {\n",
       "        vertical-align: top;\n",
       "    }\n",
       "\n",
       "    .dataframe thead th {\n",
       "        text-align: right;\n",
       "    }\n",
       "</style>\n",
       "<table border=\"1\" class=\"dataframe\">\n",
       "  <thead>\n",
       "    <tr style=\"text-align: right;\">\n",
       "      <th></th>\n",
       "      <th>mutation_id</th>\n",
       "      <th>cluster_id</th>\n",
       "      <th>Sample_1-CP</th>\n",
       "      <th>Sample_2-CP</th>\n",
       "      <th>Sample_3-CP</th>\n",
       "    </tr>\n",
       "  </thead>\n",
       "  <tbody>\n",
       "    <tr>\n",
       "      <th>0</th>\n",
       "      <td>XPNPEP2:chrX.128888451.C.T</td>\n",
       "      <td>1</td>\n",
       "      <td>0.486760</td>\n",
       "      <td>0.011121</td>\n",
       "      <td>0.008932</td>\n",
       "    </tr>\n",
       "    <tr>\n",
       "      <th>1</th>\n",
       "      <td>TPH2:chr12.72425820.G.T</td>\n",
       "      <td>1</td>\n",
       "      <td>0.452527</td>\n",
       "      <td>0.011258</td>\n",
       "      <td>0.008639</td>\n",
       "    </tr>\n",
       "    <tr>\n",
       "      <th>2</th>\n",
       "      <td>TNS4:chr17.38643384.C.T</td>\n",
       "      <td>1</td>\n",
       "      <td>0.486686</td>\n",
       "      <td>0.011205</td>\n",
       "      <td>0.008994</td>\n",
       "    </tr>\n",
       "    <tr>\n",
       "      <th>3</th>\n",
       "      <td>RYR2:chr1.237947620.C.T</td>\n",
       "      <td>1</td>\n",
       "      <td>0.485696</td>\n",
       "      <td>0.011254</td>\n",
       "      <td>0.009029</td>\n",
       "    </tr>\n",
       "    <tr>\n",
       "      <th>4</th>\n",
       "      <td>PPP2R2C:chr4.6349736.G.T</td>\n",
       "      <td>1</td>\n",
       "      <td>0.486606</td>\n",
       "      <td>0.011104</td>\n",
       "      <td>0.008938</td>\n",
       "    </tr>\n",
       "  </tbody>\n",
       "</table>\n",
       "</div>"
      ],
      "text/plain": [
       "                  mutation_id  cluster_id  Sample_1-CP  Sample_2-CP  \\\n",
       "0  XPNPEP2:chrX.128888451.C.T           1     0.486760     0.011121   \n",
       "1     TPH2:chr12.72425820.G.T           1     0.452527     0.011258   \n",
       "2     TNS4:chr17.38643384.C.T           1     0.486686     0.011205   \n",
       "3     RYR2:chr1.237947620.C.T           1     0.485696     0.011254   \n",
       "4    PPP2R2C:chr4.6349736.G.T           1     0.486606     0.011104   \n",
       "\n",
       "   Sample_3-CP  \n",
       "0     0.008932  \n",
       "1     0.008639  \n",
       "2     0.008994  \n",
       "3     0.009029  \n",
       "4     0.008938  "
      ]
     },
     "execution_count": 9,
     "metadata": {},
     "output_type": "execute_result"
    }
   ],
   "source": [
    "df.head()"
   ]
  },
  {
   "cell_type": "code",
   "execution_count": 10,
   "metadata": {},
   "outputs": [
    {
     "data": {
      "text/html": [
       "<div>\n",
       "<style scoped>\n",
       "    .dataframe tbody tr th:only-of-type {\n",
       "        vertical-align: middle;\n",
       "    }\n",
       "\n",
       "    .dataframe tbody tr th {\n",
       "        vertical-align: top;\n",
       "    }\n",
       "\n",
       "    .dataframe thead th {\n",
       "        text-align: right;\n",
       "    }\n",
       "</style>\n",
       "<table border=\"1\" class=\"dataframe\">\n",
       "  <thead>\n",
       "    <tr style=\"text-align: right;\">\n",
       "      <th></th>\n",
       "      <th>Sample_1-CP</th>\n",
       "      <th>Sample_2-CP</th>\n",
       "      <th>Sample_3-CP</th>\n",
       "    </tr>\n",
       "  </thead>\n",
       "  <tbody>\n",
       "    <tr>\n",
       "      <th>0</th>\n",
       "      <td>0.486760</td>\n",
       "      <td>0.011121</td>\n",
       "      <td>0.008932</td>\n",
       "    </tr>\n",
       "    <tr>\n",
       "      <th>1</th>\n",
       "      <td>0.452527</td>\n",
       "      <td>0.011258</td>\n",
       "      <td>0.008639</td>\n",
       "    </tr>\n",
       "    <tr>\n",
       "      <th>2</th>\n",
       "      <td>0.486686</td>\n",
       "      <td>0.011205</td>\n",
       "      <td>0.008994</td>\n",
       "    </tr>\n",
       "    <tr>\n",
       "      <th>3</th>\n",
       "      <td>0.485696</td>\n",
       "      <td>0.011254</td>\n",
       "      <td>0.009029</td>\n",
       "    </tr>\n",
       "    <tr>\n",
       "      <th>4</th>\n",
       "      <td>0.486606</td>\n",
       "      <td>0.011104</td>\n",
       "      <td>0.008938</td>\n",
       "    </tr>\n",
       "  </tbody>\n",
       "</table>\n",
       "</div>"
      ],
      "text/plain": [
       "   Sample_1-CP  Sample_2-CP  Sample_3-CP\n",
       "0     0.486760     0.011121     0.008932\n",
       "1     0.452527     0.011258     0.008639\n",
       "2     0.486686     0.011205     0.008994\n",
       "3     0.485696     0.011254     0.009029\n",
       "4     0.486606     0.011104     0.008938"
      ]
     },
     "execution_count": 10,
     "metadata": {},
     "output_type": "execute_result"
    }
   ],
   "source": [
    "plot = df.filter(regex='-CP')\n",
    "plot.head()"
   ]
  },
  {
   "cell_type": "code",
   "execution_count": 11,
   "metadata": {},
   "outputs": [
    {
     "data": {
      "image/png": "[encoded data removed]",
      "text/plain": [
       "<Figure size 288x432 with 2 Axes>"
      ]
     },
     "metadata": {
      "needs_background": "light"
     },
     "output_type": "display_data"
    },
    {
     "data": {
      "image/png": "[encoded data removed]",
      "text/plain": [
       "<Figure size 288x576 with 4 Axes>"
      ]
     },
     "metadata": {
      "needs_background": "light"
     },
     "output_type": "display_data"
    }
   ],
   "source": [
    "plt.figure(figsize=(4, 6))\n",
    "sns.heatmap(plot, cmap=\"Blues\",yticklabels=False) \n",
    "c=sns.clustermap(plot,col_cluster=False, row_cluster=False,cmap=\"Blues\",yticklabels=False,figsize=(4,8))"
   ]
  },
  {
   "cell_type": "code",
   "execution_count": 12,
   "metadata": {},
   "outputs": [],
   "source": [
    "c.savefig(filename+\".pdf\",format='pdf',dpi=1200)"
   ]
  },
  {
   "cell_type": "code",
   "execution_count": null,
   "metadata": {},
   "outputs": [],
   "source": []
  }
 ],
 "metadata": {
  "kernelspec": {
   "display_name": "Python 3",
   "language": "python",
   "name": "python3"
  },
  "language_info": {
   "codemirror_mode": {
    "name": "ipython",
    "version": 3
   },
   "file_extension": ".py",
   "mimetype": "text/x-python",
   "name": "python",
   "nbconvert_exporter": "python",
   "pygments_lexer": "ipython3",
   "version": "3.8.5"
  }
 },
 "nbformat": 4,
 "nbformat_minor": 2
}
